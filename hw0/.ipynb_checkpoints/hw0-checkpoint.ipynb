{
 "cells": [
  {
   "cell_type": "markdown",
   "metadata": {},
   "source": [
    "# Homework 0: Exercises for Julia Tutorial\n",
    "\n",
    "After you have gone through the tutorial, you should be able to fill in these simple exercises. To complete the homework, please take the following steps: \n",
    "\n",
    "1. Install Julia in your local computing environment\n",
    "2. Decide on your development environment (IJulia, VSCode, or another)\n",
    "3. Be sure to run all of the cells\n",
    "4. Print a pdf of the notebook, ensuring that everything rendered correctly \n",
    "5. Upload the pdf to Gradescope, and match the pages of the PDF to the problems in the assignment.\n"
   ]
  },
  {
   "cell_type": "markdown",
   "metadata": {},
   "source": [
    "#### Exercises\n",
    "\n",
    "Get started by reading the following statements about your class work and signing that you understand and agree by typing your name at the bottom of this cell.\n",
    "\n",
    "1. You are encouraged to discuss homework problems with classmates and even work in groups. \n",
    "\n",
    "2. However, **the work you turn in must be your own**. You must not communicate files containing code or answers to homework questions to each other.\n",
    "\n",
    "3. Many homeworks require the use of Julia and JuMP. We'll provide instructions to help you install this programming environment on your own computer, together with tutorials and exercises, but ultimately it is your responsibility to ensure that you have a stable platform on which to develop and run Julia code and jupyter notebooks. \n",
    "\n",
    "4. Submission of all homeworks will be through Gradescope. You will be required to submit a **pdf printout of your jupyter notebook**, NOT source code. \n",
    "\n",
    "    a. Please submit the answers **in the same order as on the assignment**\n",
    "\n",
    "    b. It is useful to denote the start of each question in your notebook using a large font, for example:\n",
    "    # Question 1a\n",
    "    this will help you do the matching in the Gradescope submission tool\n",
    "\n",
    "5. You can learn to do optimization modeling only by doing it yourself, not by following along what others are doing!\n",
    "\n",
    "6. **PLAGIARISM AND OTHER TYPES OF ACADEMIC MISCONDUCT IS NOT TOLERATED AND WILL HAVE CONSEQUENCES.** Please read [this information](https://conduct.students.wisc.edu/academic-misconduct/) about UW's definition of academic misconduct.\n",
    "\n"
   ]
  },
  {
   "cell_type": "markdown",
   "metadata": {},
   "source": [
    "#### 1.0  Signature\n",
    "\n",
    "PLEASE ACKNOWLEDGE YOUR UNDERSTANDING AND ACCEPTANCE OF THE RULES OF THE COURSE BY TYPING YOUR NAME IN THIS MARKDOWN CELL HERE: Damion Huppert"
   ]
  },
  {
   "cell_type": "markdown",
   "metadata": {},
   "source": [
    "#### 1.1 Working with arrays and tuples\n",
    "\n",
    "Define the array \n",
    "\n",
    "`square = [1, 2, 3]` \n",
    "\n",
    "and the tuple\n",
    "\n",
    "`round = (4,5,6)`"
   ]
  },
  {
   "cell_type": "code",
   "execution_count": 1,
   "metadata": {},
   "outputs": [
    {
     "data": {
      "text/plain": [
       "(4, 5, 6)"
      ]
     },
     "execution_count": 1,
     "metadata": {},
     "output_type": "execute_result"
    }
   ],
   "source": [
    "square = [1, 2, 3]\n",
    "round = (4, 5, 6)"
   ]
  },
  {
   "cell_type": "markdown",
   "metadata": {},
   "source": [
    "Access the first element of the array and the tuple, and add them together. "
   ]
  },
  {
   "cell_type": "code",
   "execution_count": 5,
   "metadata": {},
   "outputs": [
    {
     "data": {
      "text/plain": [
       "5"
      ]
     },
     "execution_count": 5,
     "metadata": {},
     "output_type": "execute_result"
    }
   ],
   "source": [
    "square[1] + round[1]"
   ]
  },
  {
   "cell_type": "markdown",
   "metadata": {},
   "source": [
    "Change the first element of the array to be equal to the first element of the tuple."
   ]
  },
  {
   "cell_type": "code",
   "execution_count": 6,
   "metadata": {},
   "outputs": [
    {
     "data": {
      "text/plain": [
       "4"
      ]
     },
     "execution_count": 6,
     "metadata": {},
     "output_type": "execute_result"
    }
   ],
   "source": [
    "square[1] = round[1]"
   ]
  },
  {
   "cell_type": "markdown",
   "metadata": {},
   "source": [
    "Try to change the third element of the tuple to be equal to that of the array.\n",
    "\n",
    "Why will this not work?  \n",
    "Tuples are immutable"
   ]
  },
  {
   "cell_type": "code",
   "execution_count": null,
   "metadata": {},
   "outputs": [],
   "source": [
    "\n",
    "# This will not work, because ...\n",
    "#  tuples are immutable"
   ]
  },
  {
   "cell_type": "markdown",
   "metadata": {},
   "source": [
    "#### 1.2 Dictionaries\n",
    "\n",
    "Create a dictionary which lists three of your favorite restaurants and their ranking (1, 2 or 3)."
   ]
  },
  {
   "cell_type": "code",
   "execution_count": 8,
   "metadata": {},
   "outputs": [
    {
     "data": {
      "text/plain": [
       "Dict{Int64, String} with 3 entries:\n",
       "  2 => \"Mooyah\"\n",
       "  3 => \"Chipotle\"\n",
       "  1 => \"Senjoy\""
      ]
     },
     "execution_count": 8,
     "metadata": {},
     "output_type": "execute_result"
    }
   ],
   "source": [
    "restaurant_rankings = Dict(1 => \"Senjoy\", 2 => \"Mooyah\", 3 => \"Chipotle\")"
   ]
  },
  {
   "cell_type": "markdown",
   "metadata": {},
   "source": [
    "#### 1.3 Matrices (two-dimension arrays)\n",
    "Create the following Julia matrix: $$B = \\begin{bmatrix} 1 & 2 & 1 \\\\ 3 & 0 & 1 \\\\ 0 & 2 & 4 \\end{bmatrix}$$\n",
    "\n",
    "(Please also look in this markdown cell about how to write matrices in your notebooks)"
   ]
  },
  {
   "cell_type": "code",
   "execution_count": 12,
   "metadata": {},
   "outputs": [
    {
     "data": {
      "text/plain": [
       "3×3 Matrix{Int64}:\n",
       " 1  2  1\n",
       " 3  0  1\n",
       " 0  2  4"
      ]
     },
     "execution_count": 12,
     "metadata": {},
     "output_type": "execute_result"
    }
   ],
   "source": [
    "B = [1 2 1; 3 0 1; 0 2 4]"
   ]
  },
  {
   "cell_type": "markdown",
   "metadata": {},
   "source": [
    "Change the first element in the first row of B into 5, and check if it is an even number. (Tip: Use \"a%b == c\", which means the remainder of a/b is c)"
   ]
  },
  {
   "cell_type": "code",
   "execution_count": 14,
   "metadata": {},
   "outputs": [
    {
     "data": {
      "text/plain": [
       "false"
      ]
     },
     "execution_count": 14,
     "metadata": {},
     "output_type": "execute_result"
    }
   ],
   "source": [
    "B[1, 1] = 5\n",
    "B[1, 1] % 2 == 0"
   ]
  },
  {
   "cell_type": "markdown",
   "metadata": {},
   "source": [
    "#### 1.4 For loops"
   ]
  },
  {
   "cell_type": "markdown",
   "metadata": {},
   "source": [
    "Write a for loop to print the integers from 1 to 5."
   ]
  },
  {
   "cell_type": "code",
   "execution_count": 17,
   "metadata": {},
   "outputs": [
    {
     "name": "stdout",
     "output_type": "stream",
     "text": [
      "1\n",
      "2\n",
      "3\n",
      "4\n",
      "5\n"
     ]
    }
   ],
   "source": [
    "for i in 1:5\n",
    "    println(i)\n",
    "end"
   ]
  },
  {
   "cell_type": "markdown",
   "metadata": {},
   "source": [
    "Now write a for loop to go through every element in the above matrix $B$, check if it is odd. If it is, then add 1 to that element of the matrix, and print your resulting matrix. "
   ]
  },
  {
   "cell_type": "code",
   "execution_count": 23,
   "metadata": {},
   "outputs": [
    {
     "name": "stdout",
     "output_type": "stream",
     "text": [
      "Any[5, 3, 1, 1]\n"
     ]
    }
   ],
   "source": [
    "result = []\n",
    "for i in B\n",
    "    if (i%2==1)\n",
    "        push!(result, i)\n",
    "    end\n",
    "end\n",
    "println(result)"
   ]
  },
  {
   "cell_type": "markdown",
   "metadata": {},
   "source": [
    "#### 1.5 List Comprehensions\n",
    "\n",
    "Create a list (vector) of integers called my_list that contains the integers 1 to 10 in one line using a list comprehension"
   ]
  },
  {
   "cell_type": "code",
   "execution_count": 25,
   "metadata": {},
   "outputs": [
    {
     "data": {
      "text/plain": [
       "10-element Vector{Int64}:\n",
       "  1\n",
       "  2\n",
       "  3\n",
       "  4\n",
       "  5\n",
       "  6\n",
       "  7\n",
       "  8\n",
       "  9\n",
       " 10"
      ]
     },
     "execution_count": 25,
     "metadata": {},
     "output_type": "execute_result"
    }
   ],
   "source": [
    "my_list = [i for i in 1:10]"
   ]
  },
  {
   "cell_type": "markdown",
   "metadata": {},
   "source": [
    "Create a list (vector) called my_list2 of the square of all odd numbers from 13 to 17 using a list comprehension"
   ]
  },
  {
   "cell_type": "code",
   "execution_count": 26,
   "metadata": {},
   "outputs": [
    {
     "data": {
      "text/plain": [
       "3-element Vector{Int64}:\n",
       " 169\n",
       " 225\n",
       " 289"
      ]
     },
     "execution_count": 26,
     "metadata": {},
     "output_type": "execute_result"
    }
   ],
   "source": [
    "my_list2 = [i^2 for i in 13:17 if i%2 == 1]"
   ]
  },
  {
   "cell_type": "markdown",
   "metadata": {},
   "source": [
    "#### 1.6 Functions\n",
    "Write a function called `my_func` which takes a number as an input, and return an array containing integers from 1 to $n$. And try your function with input 5."
   ]
  },
  {
   "cell_type": "code",
   "execution_count": 29,
   "metadata": {},
   "outputs": [
    {
     "data": {
      "text/plain": [
       "5-element Vector{Int64}:\n",
       " 1\n",
       " 2\n",
       " 3\n",
       " 4\n",
       " 5"
      ]
     },
     "execution_count": 29,
     "metadata": {},
     "output_type": "execute_result"
    }
   ],
   "source": [
    "my_func(x) = [i for i in 1:x]\n",
    "my_func(5)"
   ]
  },
  {
   "cell_type": "markdown",
   "metadata": {},
   "source": [
    "#### 1.7 Plots\n",
    "\n",
    "This problem is designed to ensure that you can plot using Julia and print the plots\n",
    "\n",
    "install the \"Plots\" package in your Julia environment by executing the cell below\n"
   ]
  },
  {
   "cell_type": "code",
   "execution_count": 30,
   "metadata": {},
   "outputs": [
    {
     "name": "stderr",
     "output_type": "stream",
     "text": [
      "\u001b[32m\u001b[1m   Resolving\u001b[22m\u001b[39m package versions...\n",
      "\u001b[32m\u001b[1m  No Changes\u001b[22m\u001b[39m to `C:\\Users\\damio\\.julia\\environments\\v1.11\\Project.toml`\n",
      "\u001b[32m\u001b[1m  No Changes\u001b[22m\u001b[39m to `C:\\Users\\damio\\.julia\\environments\\v1.11\\Manifest.toml`\n"
     ]
    }
   ],
   "source": [
    "using Pkg\n",
    "Pkg.add(\"Plots\")\n"
   ]
  },
  {
   "cell_type": "markdown",
   "metadata": {},
   "source": [
    "Check the status of your packages by running the command in the cell below "
   ]
  },
  {
   "cell_type": "code",
   "execution_count": 31,
   "metadata": {},
   "outputs": [
    {
     "name": "stdout",
     "output_type": "stream",
     "text": [
      "\u001b[32m\u001b[1mStatus\u001b[22m\u001b[39m `C:\\Users\\damio\\.julia\\environments\\v1.11\\Project.toml`\n",
      "  \u001b[90m[7073ff75] \u001b[39mIJulia v1.26.0\n",
      "  \u001b[90m[4076af6c] \u001b[39mJuMP v1.23.6\n",
      "  \u001b[90m[91a5bcdd] \u001b[39mPlots v1.40.9\n"
     ]
    }
   ],
   "source": [
    "Pkg.status()"
   ]
  },
  {
   "cell_type": "markdown",
   "metadata": {},
   "source": [
    "Now make a plot by executing the cell below.  This will make a simple linegraph using the Julia Plots package \n"
   ]
  },
  {
   "cell_type": "code",
   "execution_count": 34,
   "metadata": {},
   "outputs": [
    {
     "data": {
      "image/png": "[encoded data removed]",
      "image/svg+xml": [
       "<?xml version=\"1.0\" encoding=\"utf-8\"?>\n",
       "<svg xmlns=\"http://www.w3.org/2000/svg\" xmlns:xlink=\"http://www.w3.org/1999/xlink\" width=\"600\" height=\"400\" viewBox=\"0 0 2400 1600\">\n",
       "<defs>\n",
       "  <clipPath id=\"clip060\">\n",
       "    <rect x=\"0\" y=\"0\" width=\"2400\" height=\"1600\"/>\n",
       "  </clipPath>\n",
       "</defs>\n",
       "<path clip-path=\"url(#clip060)\" d=\"M0 1600 L2400 1600 L2400 0 L0 0  Z\" fill=\"#ffffff\" fill-rule=\"evenodd\" fill-opacity=\"1\"/>\n",
       "<defs>\n",
       "  <clipPath id=\"clip061\">\n",
       "    <rect x=\"480\" y=\"0\" width=\"1681\" height=\"1600\"/>\n",
       "  </clipPath>\n",
       "</defs>\n",
       "<path clip-path=\"url(#clip060)\" d=\"M112.177 1486.45 L2352.76 1486.45 L2352.76 47.2441 L112.177 47.2441  Z\" fill=\"#ffffff\" fill-rule=\"evenodd\" fill-opacity=\"1\"/>\n",
       "<defs>\n",
       "  <clipPath id=\"clip062\">\n",
       "    <rect x=\"112\" y=\"47\" width=\"2242\" height=\"1440\"/>\n",
       "  </clipPath>\n",
       "</defs>\n",
       "<polyline clip-path=\"url(#clip062)\" style=\"stroke:#000000; stroke-linecap:round; stroke-linejoin:round; stroke-width:2; stroke-opacity:0.1; fill:none\" points=\"175.59,1486.45 175.59,47.2441 \"/>\n",
       "<polyline clip-path=\"url(#clip062)\" style=\"stroke:#000000; stroke-linecap:round; stroke-linejoin:round; stroke-width:2; stroke-opacity:0.1; fill:none\" points=\"704.028,1486.45 704.028,47.2441 \"/>\n",
       "<polyline clip-path=\"url(#clip062)\" style=\"stroke:#000000; stroke-linecap:round; stroke-linejoin:round; stroke-width:2; stroke-opacity:0.1; fill:none\" points=\"1232.47,1486.45 1232.47,47.2441 \"/>\n",
       "<polyline clip-path=\"url(#clip062)\" style=\"stroke:#000000; stroke-linecap:round; stroke-linejoin:round; stroke-width:2; stroke-opacity:0.1; fill:none\" points=\"1760.9,1486.45 1760.9,47.2441 \"/>\n",
       "<polyline clip-path=\"url(#clip062)\" style=\"stroke:#000000; stroke-linecap:round; stroke-linejoin:round; stroke-width:2; stroke-opacity:0.1; fill:none\" points=\"2289.34,1486.45 2289.34,47.2441 \"/>\n",
       "<polyline clip-path=\"url(#clip062)\" style=\"stroke:#000000; stroke-linecap:round; stroke-linejoin:round; stroke-width:2; stroke-opacity:0.1; fill:none\" points=\"112.177,1294.86 2352.76,1294.86 \"/>\n",
       "<polyline clip-path=\"url(#clip062)\" style=\"stroke:#000000; stroke-linecap:round; stroke-linejoin:round; stroke-width:2; stroke-opacity:0.1; fill:none\" points=\"112.177,993.136 2352.76,993.136 \"/>\n",
       "<polyline clip-path=\"url(#clip062)\" style=\"stroke:#000000; stroke-linecap:round; stroke-linejoin:round; stroke-width:2; stroke-opacity:0.1; fill:none\" points=\"112.177,691.416 2352.76,691.416 \"/>\n",
       "<polyline clip-path=\"url(#clip062)\" style=\"stroke:#000000; stroke-linecap:round; stroke-linejoin:round; stroke-width:2; stroke-opacity:0.1; fill:none\" points=\"112.177,389.696 2352.76,389.696 \"/>\n",
       "<polyline clip-path=\"url(#clip062)\" style=\"stroke:#000000; stroke-linecap:round; stroke-linejoin:round; stroke-width:2; stroke-opacity:0.1; fill:none\" points=\"112.177,87.9763 2352.76,87.9763 \"/>\n",
       "<polyline clip-path=\"url(#clip060)\" style=\"stroke:#000000; stroke-linecap:round; stroke-linejoin:round; stroke-width:4; stroke-opacity:1; fill:none\" points=\"112.177,1486.45 2352.76,1486.45 \"/>\n",
       "<polyline clip-path=\"url(#clip060)\" style=\"stroke:#000000; stroke-linecap:round; stroke-linejoin:round; stroke-width:4; stroke-opacity:1; fill:none\" points=\"175.59,1486.45 175.59,1467.55 \"/>\n",
       "<polyline clip-path=\"url(#clip060)\" style=\"stroke:#000000; stroke-linecap:round; stroke-linejoin:round; stroke-width:4; stroke-opacity:1; fill:none\" points=\"704.028,1486.45 704.028,1467.55 \"/>\n",
       "<polyline clip-path=\"url(#clip060)\" style=\"stroke:#000000; stroke-linecap:round; stroke-linejoin:round; stroke-width:4; stroke-opacity:1; fill:none\" points=\"1232.47,1486.45 1232.47,1467.55 \"/>\n",
       "<polyline clip-path=\"url(#clip060)\" style=\"stroke:#000000; stroke-linecap:round; stroke-linejoin:round; stroke-width:4; stroke-opacity:1; fill:none\" points=\"1760.9,1486.45 1760.9,1467.55 \"/>\n",
       "<polyline clip-path=\"url(#clip060)\" style=\"stroke:#000000; stroke-linecap:round; stroke-linejoin:round; stroke-width:4; stroke-opacity:1; fill:none\" points=\"2289.34,1486.45 2289.34,1467.55 \"/>\n",
       "<path clip-path=\"url(#clip060)\" d=\"M165.972 1544.91 L173.611 1544.91 L173.611 1518.55 L165.3 1520.21 L165.3 1515.95 L173.564 1514.29 L178.24 1514.29 L178.24 1544.91 L185.879 1544.91 L185.879 1548.85 L165.972 1548.85 L165.972 1544.91 Z\" fill=\"#000000\" fill-rule=\"nonzero\" fill-opacity=\"1\" /><path clip-path=\"url(#clip060)\" d=\"M698.681 1544.91 L715 1544.91 L715 1548.85 L693.056 1548.85 L693.056 1544.91 Q695.718 1542.16 700.301 1537.53 Q704.908 1532.88 706.088 1531.53 Q708.334 1529.01 709.213 1527.27 Q710.116 1525.51 710.116 1523.82 Q710.116 1521.07 708.172 1519.33 Q706.25 1517.6 703.149 1517.6 Q700.949 1517.6 698.496 1518.36 Q696.065 1519.13 693.287 1520.68 L693.287 1515.95 Q696.112 1514.82 698.565 1514.24 Q701.019 1513.66 703.056 1513.66 Q708.426 1513.66 711.621 1516.35 Q714.815 1519.03 714.815 1523.52 Q714.815 1525.65 714.005 1527.57 Q713.218 1529.47 711.111 1532.07 Q710.533 1532.74 707.431 1535.95 Q704.329 1539.15 698.681 1544.91 Z\" fill=\"#000000\" fill-rule=\"nonzero\" fill-opacity=\"1\" /><path clip-path=\"url(#clip060)\" d=\"M1236.71 1530.21 Q1240.07 1530.93 1241.95 1533.2 Q1243.84 1535.47 1243.84 1538.8 Q1243.84 1543.92 1240.33 1546.72 Q1236.81 1549.52 1230.33 1549.52 Q1228.15 1549.52 1225.83 1549.08 Q1223.54 1548.66 1221.09 1547.81 L1221.09 1543.29 Q1223.03 1544.43 1225.35 1545.01 Q1227.66 1545.58 1230.19 1545.58 Q1234.58 1545.58 1236.88 1543.85 Q1239.19 1542.11 1239.19 1538.8 Q1239.19 1535.75 1237.04 1534.03 Q1234.91 1532.3 1231.09 1532.3 L1227.06 1532.3 L1227.06 1528.45 L1231.27 1528.45 Q1234.72 1528.45 1236.55 1527.09 Q1238.38 1525.7 1238.38 1523.11 Q1238.38 1520.45 1236.48 1519.03 Q1234.61 1517.6 1231.09 1517.6 Q1229.17 1517.6 1226.97 1518.01 Q1224.77 1518.43 1222.13 1519.31 L1222.13 1515.14 Q1224.79 1514.4 1227.11 1514.03 Q1229.45 1513.66 1231.51 1513.66 Q1236.83 1513.66 1239.93 1516.09 Q1243.03 1518.5 1243.03 1522.62 Q1243.03 1525.49 1241.39 1527.48 Q1239.75 1529.45 1236.71 1530.21 Z\" fill=\"#000000\" fill-rule=\"nonzero\" fill-opacity=\"1\" /><path clip-path=\"url(#clip060)\" d=\"M1763.91 1518.36 L1752.11 1536.81 L1763.91 1536.81 L1763.91 1518.36 M1762.69 1514.29 L1768.57 1514.29 L1768.57 1536.81 L1773.5 1536.81 L1773.5 1540.7 L1768.57 1540.7 L1768.57 1548.85 L1763.91 1548.85 L1763.91 1540.7 L1748.31 1540.7 L1748.31 1536.19 L1762.69 1514.29 Z\" fill=\"#000000\" fill-rule=\"nonzero\" fill-opacity=\"1\" /><path clip-path=\"url(#clip060)\" d=\"M2279.62 1514.29 L2297.98 1514.29 L2297.98 1518.22 L2283.9 1518.22 L2283.9 1526.7 Q2284.92 1526.35 2285.94 1526.19 Q2286.96 1526 2287.98 1526 Q2293.76 1526 2297.14 1529.17 Q2300.52 1532.34 2300.52 1537.76 Q2300.52 1543.34 2297.05 1546.44 Q2293.58 1549.52 2287.26 1549.52 Q2285.08 1549.52 2282.82 1549.15 Q2280.57 1548.78 2278.16 1548.04 L2278.16 1543.34 Q2280.25 1544.47 2282.47 1545.03 Q2284.69 1545.58 2287.17 1545.58 Q2291.17 1545.58 2293.51 1543.48 Q2295.85 1541.37 2295.85 1537.76 Q2295.85 1534.15 2293.51 1532.04 Q2291.17 1529.94 2287.17 1529.94 Q2285.29 1529.94 2283.42 1530.35 Q2281.57 1530.77 2279.62 1531.65 L2279.62 1514.29 Z\" fill=\"#000000\" fill-rule=\"nonzero\" fill-opacity=\"1\" /><polyline clip-path=\"url(#clip060)\" style=\"stroke:#000000; stroke-linecap:round; stroke-linejoin:round; stroke-width:4; stroke-opacity:1; fill:none\" points=\"112.177,1486.45 112.177,47.2441 \"/>\n",
       "<polyline clip-path=\"url(#clip060)\" style=\"stroke:#000000; stroke-linecap:round; stroke-linejoin:round; stroke-width:4; stroke-opacity:1; fill:none\" points=\"112.177,1294.86 131.075,1294.86 \"/>\n",
       "<polyline clip-path=\"url(#clip060)\" style=\"stroke:#000000; stroke-linecap:round; stroke-linejoin:round; stroke-width:4; stroke-opacity:1; fill:none\" points=\"112.177,993.136 131.075,993.136 \"/>\n",
       "<polyline clip-path=\"url(#clip060)\" style=\"stroke:#000000; stroke-linecap:round; stroke-linejoin:round; stroke-width:4; stroke-opacity:1; fill:none\" points=\"112.177,691.416 131.075,691.416 \"/>\n",
       "<polyline clip-path=\"url(#clip060)\" style=\"stroke:#000000; stroke-linecap:round; stroke-linejoin:round; stroke-width:4; stroke-opacity:1; fill:none\" points=\"112.177,389.696 131.075,389.696 \"/>\n",
       "<polyline clip-path=\"url(#clip060)\" style=\"stroke:#000000; stroke-linecap:round; stroke-linejoin:round; stroke-width:4; stroke-opacity:1; fill:none\" points=\"112.177,87.9763 131.075,87.9763 \"/>\n",
       "<path clip-path=\"url(#clip060)\" d=\"M64.2328 1280.65 Q60.6217 1280.65 58.793 1284.22 Q56.9875 1287.76 56.9875 1294.89 Q56.9875 1302 58.793 1305.56 Q60.6217 1309.1 64.2328 1309.1 Q67.867 1309.1 69.6726 1305.56 Q71.5013 1302 71.5013 1294.89 Q71.5013 1287.76 69.6726 1284.22 Q67.867 1280.65 64.2328 1280.65 M64.2328 1276.95 Q70.0429 1276.95 73.0985 1281.56 Q76.1772 1286.14 76.1772 1294.89 Q76.1772 1303.62 73.0985 1308.22 Q70.0429 1312.81 64.2328 1312.81 Q58.4226 1312.81 55.344 1308.22 Q52.2884 1303.62 52.2884 1294.89 Q52.2884 1286.14 55.344 1281.56 Q58.4226 1276.95 64.2328 1276.95 Z\" fill=\"#000000\" fill-rule=\"nonzero\" fill-opacity=\"1\" /><path clip-path=\"url(#clip060)\" d=\"M59.8578 1006.48 L76.1772 1006.48 L76.1772 1010.42 L54.2328 1010.42 L54.2328 1006.48 Q56.8949 1003.73 61.4782 999.097 Q66.0846 994.444 67.2652 993.101 Q69.5105 990.578 70.3902 988.842 Q71.2929 987.083 71.2929 985.393 Q71.2929 982.638 69.3485 980.902 Q67.4272 979.166 64.3254 979.166 Q62.1263 979.166 59.6726 979.93 Q57.2421 980.694 54.4643 982.245 L54.4643 977.523 Q57.2884 976.388 59.7421 975.81 Q62.1958 975.231 64.2328 975.231 Q69.6031 975.231 72.7976 977.916 Q75.992 980.601 75.992 985.092 Q75.992 987.222 75.1818 989.143 Q74.3948 991.041 72.2883 993.634 Q71.7096 994.305 68.6078 997.522 Q65.5059 1000.72 59.8578 1006.48 Z\" fill=\"#000000\" fill-rule=\"nonzero\" fill-opacity=\"1\" /><path clip-path=\"url(#clip060)\" d=\"M66.5939 678.21 L54.7884 696.659 L66.5939 696.659 L66.5939 678.21 M65.367 674.136 L71.2466 674.136 L71.2466 696.659 L76.1772 696.659 L76.1772 700.548 L71.2466 700.548 L71.2466 708.696 L66.5939 708.696 L66.5939 700.548 L50.9921 700.548 L50.9921 696.034 L65.367 674.136 Z\" fill=\"#000000\" fill-rule=\"nonzero\" fill-opacity=\"1\" /><path clip-path=\"url(#clip060)\" d=\"M64.6495 387.833 Q61.5013 387.833 59.6495 389.985 Q57.8208 392.138 57.8208 395.888 Q57.8208 399.615 59.6495 401.791 Q61.5013 403.944 64.6495 403.944 Q67.7976 403.944 69.6263 401.791 Q71.4781 399.615 71.4781 395.888 Q71.4781 392.138 69.6263 389.985 Q67.7976 387.833 64.6495 387.833 M73.9318 373.18 L73.9318 377.439 Q72.1726 376.606 70.367 376.166 Q68.5846 375.726 66.8254 375.726 Q62.1958 375.726 59.7421 378.851 Q57.3115 381.976 56.9643 388.296 Q58.33 386.282 60.3902 385.217 Q62.4504 384.129 64.9272 384.129 Q70.1355 384.129 73.1448 387.3 Q76.1772 390.448 76.1772 395.888 Q76.1772 401.212 73.029 404.43 Q69.8809 407.647 64.6495 407.647 Q58.6541 407.647 55.4828 403.064 Q52.3116 398.458 52.3116 389.731 Q52.3116 381.536 56.2004 376.675 Q60.0893 371.791 66.6402 371.791 Q68.3994 371.791 70.1818 372.138 Q71.9874 372.486 73.9318 373.18 Z\" fill=\"#000000\" fill-rule=\"nonzero\" fill-opacity=\"1\" /><path clip-path=\"url(#clip060)\" d=\"M64.3254 88.8443 Q60.9921 88.8443 59.0708 90.6267 Q57.1726 92.4091 57.1726 95.5341 Q57.1726 98.6591 59.0708 100.441 Q60.9921 102.224 64.3254 102.224 Q67.6587 102.224 69.58 100.441 Q71.5013 98.6359 71.5013 95.5341 Q71.5013 92.4091 69.58 90.6267 Q67.6819 88.8443 64.3254 88.8443 M59.6495 86.8536 Q56.6402 86.1129 54.9504 84.0527 Q53.2838 81.9925 53.2838 79.0296 Q53.2838 74.8861 56.2236 72.4787 Q59.1865 70.0713 64.3254 70.0713 Q69.4874 70.0713 72.4272 72.4787 Q75.367 74.8861 75.367 79.0296 Q75.367 81.9925 73.6772 84.0527 Q72.0105 86.1129 69.0244 86.8536 Q72.404 87.6406 74.279 89.9323 Q76.1772 92.2239 76.1772 95.5341 Q76.1772 100.557 73.0985 103.242 Q70.0429 105.928 64.3254 105.928 Q58.6078 105.928 55.5291 103.242 Q52.4736 100.557 52.4736 95.5341 Q52.4736 92.2239 54.3717 89.9323 Q56.2699 87.6406 59.6495 86.8536 M57.9365 79.4694 Q57.9365 82.1545 59.6032 83.6592 Q61.293 85.1638 64.3254 85.1638 Q67.3346 85.1638 69.0244 83.6592 Q70.7374 82.1545 70.7374 79.4694 Q70.7374 76.7842 69.0244 75.2796 Q67.3346 73.775 64.3254 73.775 Q61.293 73.775 59.6032 75.2796 Q57.9365 76.7842 57.9365 79.4694 Z\" fill=\"#000000\" fill-rule=\"nonzero\" fill-opacity=\"1\" /><polyline clip-path=\"url(#clip062)\" style=\"stroke:#009af9; stroke-linecap:round; stroke-linejoin:round; stroke-width:8; stroke-opacity:1; fill:none\" points=\"175.59,1445.72 704.028,691.416 1232.47,1294.86 1760.9,87.9763 2289.34,993.136 \"/>\n",
       "<path clip-path=\"url(#clip060)\" d=\"M2001.58 198.898 L2278.07 198.898 L2278.07 95.2176 L2001.58 95.2176  Z\" fill=\"#ffffff\" fill-rule=\"evenodd\" fill-opacity=\"1\"/>\n",
       "<polyline clip-path=\"url(#clip060)\" style=\"stroke:#000000; stroke-linecap:round; stroke-linejoin:round; stroke-width:4; stroke-opacity:1; fill:none\" points=\"2001.58,198.898 2278.07,198.898 2278.07,95.2176 2001.58,95.2176 2001.58,198.898 \"/>\n",
       "<polyline clip-path=\"url(#clip060)\" style=\"stroke:#009af9; stroke-linecap:round; stroke-linejoin:round; stroke-width:8; stroke-opacity:1; fill:none\" points=\"2026.48,147.058 2175.85,147.058 \"/>\n",
       "<path clip-path=\"url(#clip060)\" d=\"M2214.59 166.745 Q2212.78 171.375 2211.07 172.787 Q2209.36 174.199 2206.49 174.199 L2203.08 174.199 L2203.08 170.634 L2205.58 170.634 Q2207.34 170.634 2208.31 169.8 Q2209.29 168.967 2210.47 165.865 L2211.23 163.921 L2200.74 138.412 L2205.26 138.412 L2213.36 158.689 L2221.46 138.412 L2225.98 138.412 L2214.59 166.745 Z\" fill=\"#000000\" fill-rule=\"nonzero\" fill-opacity=\"1\" /><path clip-path=\"url(#clip060)\" d=\"M2233.27 160.402 L2240.91 160.402 L2240.91 134.037 L2232.6 135.703 L2232.6 131.444 L2240.86 129.778 L2245.54 129.778 L2245.54 160.402 L2253.17 160.402 L2253.17 164.338 L2233.27 164.338 L2233.27 160.402 Z\" fill=\"#000000\" fill-rule=\"nonzero\" fill-opacity=\"1\" /></svg>\n"
      ],
      "text/html": [
       "<?xml version=\"1.0\" encoding=\"utf-8\"?>\n",
       "<svg xmlns=\"http://www.w3.org/2000/svg\" xmlns:xlink=\"http://www.w3.org/1999/xlink\" width=\"600\" height=\"400\" viewBox=\"0 0 2400 1600\">\n",
       "<defs>\n",
       "  <clipPath id=\"clip110\">\n",
       "    <rect x=\"0\" y=\"0\" width=\"2400\" height=\"1600\"/>\n",
       "  </clipPath>\n",
       "</defs>\n",
       "<path clip-path=\"url(#clip110)\" d=\"M0 1600 L2400 1600 L2400 0 L0 0  Z\" fill=\"#ffffff\" fill-rule=\"evenodd\" fill-opacity=\"1\"/>\n",
       "<defs>\n",
       "  <clipPath id=\"clip111\">\n",
       "    <rect x=\"480\" y=\"0\" width=\"1681\" height=\"1600\"/>\n",
       "  </clipPath>\n",
       "</defs>\n",
       "<path clip-path=\"url(#clip110)\" d=\"M112.177 1486.45 L2352.76 1486.45 L2352.76 47.2441 L112.177 47.2441  Z\" fill=\"#ffffff\" fill-rule=\"evenodd\" fill-opacity=\"1\"/>\n",
       "<defs>\n",
       "  <clipPath id=\"clip112\">\n",
       "    <rect x=\"112\" y=\"47\" width=\"2242\" height=\"1440\"/>\n",
       "  </clipPath>\n",
       "</defs>\n",
       "<polyline clip-path=\"url(#clip112)\" style=\"stroke:#000000; stroke-linecap:round; stroke-linejoin:round; stroke-width:2; stroke-opacity:0.1; fill:none\" points=\"175.59,1486.45 175.59,47.2441 \"/>\n",
       "<polyline clip-path=\"url(#clip112)\" style=\"stroke:#000000; stroke-linecap:round; stroke-linejoin:round; stroke-width:2; stroke-opacity:0.1; fill:none\" points=\"704.028,1486.45 704.028,47.2441 \"/>\n",
       "<polyline clip-path=\"url(#clip112)\" style=\"stroke:#000000; stroke-linecap:round; stroke-linejoin:round; stroke-width:2; stroke-opacity:0.1; fill:none\" points=\"1232.47,1486.45 1232.47,47.2441 \"/>\n",
       "<polyline clip-path=\"url(#clip112)\" style=\"stroke:#000000; stroke-linecap:round; stroke-linejoin:round; stroke-width:2; stroke-opacity:0.1; fill:none\" points=\"1760.9,1486.45 1760.9,47.2441 \"/>\n",
       "<polyline clip-path=\"url(#clip112)\" style=\"stroke:#000000; stroke-linecap:round; stroke-linejoin:round; stroke-width:2; stroke-opacity:0.1; fill:none\" points=\"2289.34,1486.45 2289.34,47.2441 \"/>\n",
       "<polyline clip-path=\"url(#clip112)\" style=\"stroke:#000000; stroke-linecap:round; stroke-linejoin:round; stroke-width:2; stroke-opacity:0.1; fill:none\" points=\"112.177,1294.86 2352.76,1294.86 \"/>\n",
       "<polyline clip-path=\"url(#clip112)\" style=\"stroke:#000000; stroke-linecap:round; stroke-linejoin:round; stroke-width:2; stroke-opacity:0.1; fill:none\" points=\"112.177,993.136 2352.76,993.136 \"/>\n",
       "<polyline clip-path=\"url(#clip112)\" style=\"stroke:#000000; stroke-linecap:round; stroke-linejoin:round; stroke-width:2; stroke-opacity:0.1; fill:none\" points=\"112.177,691.416 2352.76,691.416 \"/>\n",
       "<polyline clip-path=\"url(#clip112)\" style=\"stroke:#000000; stroke-linecap:round; stroke-linejoin:round; stroke-width:2; stroke-opacity:0.1; fill:none\" points=\"112.177,389.696 2352.76,389.696 \"/>\n",
       "<polyline clip-path=\"url(#clip112)\" style=\"stroke:#000000; stroke-linecap:round; stroke-linejoin:round; stroke-width:2; stroke-opacity:0.1; fill:none\" points=\"112.177,87.9763 2352.76,87.9763 \"/>\n",
       "<polyline clip-path=\"url(#clip110)\" style=\"stroke:#000000; stroke-linecap:round; stroke-linejoin:round; stroke-width:4; stroke-opacity:1; fill:none\" points=\"112.177,1486.45 2352.76,1486.45 \"/>\n",
       "<polyline clip-path=\"url(#clip110)\" style=\"stroke:#000000; stroke-linecap:round; stroke-linejoin:round; stroke-width:4; stroke-opacity:1; fill:none\" points=\"175.59,1486.45 175.59,1467.55 \"/>\n",
       "<polyline clip-path=\"url(#clip110)\" style=\"stroke:#000000; stroke-linecap:round; stroke-linejoin:round; stroke-width:4; stroke-opacity:1; fill:none\" points=\"704.028,1486.45 704.028,1467.55 \"/>\n",
       "<polyline clip-path=\"url(#clip110)\" style=\"stroke:#000000; stroke-linecap:round; stroke-linejoin:round; stroke-width:4; stroke-opacity:1; fill:none\" points=\"1232.47,1486.45 1232.47,1467.55 \"/>\n",
       "<polyline clip-path=\"url(#clip110)\" style=\"stroke:#000000; stroke-linecap:round; stroke-linejoin:round; stroke-width:4; stroke-opacity:1; fill:none\" points=\"1760.9,1486.45 1760.9,1467.55 \"/>\n",
       "<polyline clip-path=\"url(#clip110)\" style=\"stroke:#000000; stroke-linecap:round; stroke-linejoin:round; stroke-width:4; stroke-opacity:1; fill:none\" points=\"2289.34,1486.45 2289.34,1467.55 \"/>\n",
       "<path clip-path=\"url(#clip110)\" d=\"M165.972 1544.91 L173.611 1544.91 L173.611 1518.55 L165.3 1520.21 L165.3 1515.95 L173.564 1514.29 L178.24 1514.29 L178.24 1544.91 L185.879 1544.91 L185.879 1548.85 L165.972 1548.85 L165.972 1544.91 Z\" fill=\"#000000\" fill-rule=\"nonzero\" fill-opacity=\"1\" /><path clip-path=\"url(#clip110)\" d=\"M698.681 1544.91 L715 1544.91 L715 1548.85 L693.056 1548.85 L693.056 1544.91 Q695.718 1542.16 700.301 1537.53 Q704.908 1532.88 706.088 1531.53 Q708.334 1529.01 709.213 1527.27 Q710.116 1525.51 710.116 1523.82 Q710.116 1521.07 708.172 1519.33 Q706.25 1517.6 703.149 1517.6 Q700.949 1517.6 698.496 1518.36 Q696.065 1519.13 693.287 1520.68 L693.287 1515.95 Q696.112 1514.82 698.565 1514.24 Q701.019 1513.66 703.056 1513.66 Q708.426 1513.66 711.621 1516.35 Q714.815 1519.03 714.815 1523.52 Q714.815 1525.65 714.005 1527.57 Q713.218 1529.47 711.111 1532.07 Q710.533 1532.74 707.431 1535.95 Q704.329 1539.15 698.681 1544.91 Z\" fill=\"#000000\" fill-rule=\"nonzero\" fill-opacity=\"1\" /><path clip-path=\"url(#clip110)\" d=\"M1236.71 1530.21 Q1240.07 1530.93 1241.95 1533.2 Q1243.84 1535.47 1243.84 1538.8 Q1243.84 1543.92 1240.33 1546.72 Q1236.81 1549.52 1230.33 1549.52 Q1228.15 1549.52 1225.83 1549.08 Q1223.54 1548.66 1221.09 1547.81 L1221.09 1543.29 Q1223.03 1544.43 1225.35 1545.01 Q1227.66 1545.58 1230.19 1545.58 Q1234.58 1545.58 1236.88 1543.85 Q1239.19 1542.11 1239.19 1538.8 Q1239.19 1535.75 1237.04 1534.03 Q1234.91 1532.3 1231.09 1532.3 L1227.06 1532.3 L1227.06 1528.45 L1231.27 1528.45 Q1234.72 1528.45 1236.55 1527.09 Q1238.38 1525.7 1238.38 1523.11 Q1238.38 1520.45 1236.48 1519.03 Q1234.61 1517.6 1231.09 1517.6 Q1229.17 1517.6 1226.97 1518.01 Q1224.77 1518.43 1222.13 1519.31 L1222.13 1515.14 Q1224.79 1514.4 1227.11 1514.03 Q1229.45 1513.66 1231.51 1513.66 Q1236.83 1513.66 1239.93 1516.09 Q1243.03 1518.5 1243.03 1522.62 Q1243.03 1525.49 1241.39 1527.48 Q1239.75 1529.45 1236.71 1530.21 Z\" fill=\"#000000\" fill-rule=\"nonzero\" fill-opacity=\"1\" /><path clip-path=\"url(#clip110)\" d=\"M1763.91 1518.36 L1752.11 1536.81 L1763.91 1536.81 L1763.91 1518.36 M1762.69 1514.29 L1768.57 1514.29 L1768.57 1536.81 L1773.5 1536.81 L1773.5 1540.7 L1768.57 1540.7 L1768.57 1548.85 L1763.91 1548.85 L1763.91 1540.7 L1748.31 1540.7 L1748.31 1536.19 L1762.69 1514.29 Z\" fill=\"#000000\" fill-rule=\"nonzero\" fill-opacity=\"1\" /><path clip-path=\"url(#clip110)\" d=\"M2279.62 1514.29 L2297.98 1514.29 L2297.98 1518.22 L2283.9 1518.22 L2283.9 1526.7 Q2284.92 1526.35 2285.94 1526.19 Q2286.96 1526 2287.98 1526 Q2293.76 1526 2297.14 1529.17 Q2300.52 1532.34 2300.52 1537.76 Q2300.52 1543.34 2297.05 1546.44 Q2293.58 1549.52 2287.26 1549.52 Q2285.08 1549.52 2282.82 1549.15 Q2280.57 1548.78 2278.16 1548.04 L2278.16 1543.34 Q2280.25 1544.47 2282.47 1545.03 Q2284.69 1545.58 2287.17 1545.58 Q2291.17 1545.58 2293.51 1543.48 Q2295.85 1541.37 2295.85 1537.76 Q2295.85 1534.15 2293.51 1532.04 Q2291.17 1529.94 2287.17 1529.94 Q2285.29 1529.94 2283.42 1530.35 Q2281.57 1530.77 2279.62 1531.65 L2279.62 1514.29 Z\" fill=\"#000000\" fill-rule=\"nonzero\" fill-opacity=\"1\" /><polyline clip-path=\"url(#clip110)\" style=\"stroke:#000000; stroke-linecap:round; stroke-linejoin:round; stroke-width:4; stroke-opacity:1; fill:none\" points=\"112.177,1486.45 112.177,47.2441 \"/>\n",
       "<polyline clip-path=\"url(#clip110)\" style=\"stroke:#000000; stroke-linecap:round; stroke-linejoin:round; stroke-width:4; stroke-opacity:1; fill:none\" points=\"112.177,1294.86 131.075,1294.86 \"/>\n",
       "<polyline clip-path=\"url(#clip110)\" style=\"stroke:#000000; stroke-linecap:round; stroke-linejoin:round; stroke-width:4; stroke-opacity:1; fill:none\" points=\"112.177,993.136 131.075,993.136 \"/>\n",
       "<polyline clip-path=\"url(#clip110)\" style=\"stroke:#000000; stroke-linecap:round; stroke-linejoin:round; stroke-width:4; stroke-opacity:1; fill:none\" points=\"112.177,691.416 131.075,691.416 \"/>\n",
       "<polyline clip-path=\"url(#clip110)\" style=\"stroke:#000000; stroke-linecap:round; stroke-linejoin:round; stroke-width:4; stroke-opacity:1; fill:none\" points=\"112.177,389.696 131.075,389.696 \"/>\n",
       "<polyline clip-path=\"url(#clip110)\" style=\"stroke:#000000; stroke-linecap:round; stroke-linejoin:round; stroke-width:4; stroke-opacity:1; fill:none\" points=\"112.177,87.9763 131.075,87.9763 \"/>\n",
       "<path clip-path=\"url(#clip110)\" d=\"M64.2328 1280.65 Q60.6217 1280.65 58.793 1284.22 Q56.9875 1287.76 56.9875 1294.89 Q56.9875 1302 58.793 1305.56 Q60.6217 1309.1 64.2328 1309.1 Q67.867 1309.1 69.6726 1305.56 Q71.5013 1302 71.5013 1294.89 Q71.5013 1287.76 69.6726 1284.22 Q67.867 1280.65 64.2328 1280.65 M64.2328 1276.95 Q70.0429 1276.95 73.0985 1281.56 Q76.1772 1286.14 76.1772 1294.89 Q76.1772 1303.62 73.0985 1308.22 Q70.0429 1312.81 64.2328 1312.81 Q58.4226 1312.81 55.344 1308.22 Q52.2884 1303.62 52.2884 1294.89 Q52.2884 1286.14 55.344 1281.56 Q58.4226 1276.95 64.2328 1276.95 Z\" fill=\"#000000\" fill-rule=\"nonzero\" fill-opacity=\"1\" /><path clip-path=\"url(#clip110)\" d=\"M59.8578 1006.48 L76.1772 1006.48 L76.1772 1010.42 L54.2328 1010.42 L54.2328 1006.48 Q56.8949 1003.73 61.4782 999.097 Q66.0846 994.444 67.2652 993.101 Q69.5105 990.578 70.3902 988.842 Q71.2929 987.083 71.2929 985.393 Q71.2929 982.638 69.3485 980.902 Q67.4272 979.166 64.3254 979.166 Q62.1263 979.166 59.6726 979.93 Q57.2421 980.694 54.4643 982.245 L54.4643 977.523 Q57.2884 976.388 59.7421 975.81 Q62.1958 975.231 64.2328 975.231 Q69.6031 975.231 72.7976 977.916 Q75.992 980.601 75.992 985.092 Q75.992 987.222 75.1818 989.143 Q74.3948 991.041 72.2883 993.634 Q71.7096 994.305 68.6078 997.522 Q65.5059 1000.72 59.8578 1006.48 Z\" fill=\"#000000\" fill-rule=\"nonzero\" fill-opacity=\"1\" /><path clip-path=\"url(#clip110)\" d=\"M66.5939 678.21 L54.7884 696.659 L66.5939 696.659 L66.5939 678.21 M65.367 674.136 L71.2466 674.136 L71.2466 696.659 L76.1772 696.659 L76.1772 700.548 L71.2466 700.548 L71.2466 708.696 L66.5939 708.696 L66.5939 700.548 L50.9921 700.548 L50.9921 696.034 L65.367 674.136 Z\" fill=\"#000000\" fill-rule=\"nonzero\" fill-opacity=\"1\" /><path clip-path=\"url(#clip110)\" d=\"M64.6495 387.833 Q61.5013 387.833 59.6495 389.985 Q57.8208 392.138 57.8208 395.888 Q57.8208 399.615 59.6495 401.791 Q61.5013 403.944 64.6495 403.944 Q67.7976 403.944 69.6263 401.791 Q71.4781 399.615 71.4781 395.888 Q71.4781 392.138 69.6263 389.985 Q67.7976 387.833 64.6495 387.833 M73.9318 373.18 L73.9318 377.439 Q72.1726 376.606 70.367 376.166 Q68.5846 375.726 66.8254 375.726 Q62.1958 375.726 59.7421 378.851 Q57.3115 381.976 56.9643 388.296 Q58.33 386.282 60.3902 385.217 Q62.4504 384.129 64.9272 384.129 Q70.1355 384.129 73.1448 387.3 Q76.1772 390.448 76.1772 395.888 Q76.1772 401.212 73.029 404.43 Q69.8809 407.647 64.6495 407.647 Q58.6541 407.647 55.4828 403.064 Q52.3116 398.458 52.3116 389.731 Q52.3116 381.536 56.2004 376.675 Q60.0893 371.791 66.6402 371.791 Q68.3994 371.791 70.1818 372.138 Q71.9874 372.486 73.9318 373.18 Z\" fill=\"#000000\" fill-rule=\"nonzero\" fill-opacity=\"1\" /><path clip-path=\"url(#clip110)\" d=\"M64.3254 88.8443 Q60.9921 88.8443 59.0708 90.6267 Q57.1726 92.4091 57.1726 95.5341 Q57.1726 98.6591 59.0708 100.441 Q60.9921 102.224 64.3254 102.224 Q67.6587 102.224 69.58 100.441 Q71.5013 98.6359 71.5013 95.5341 Q71.5013 92.4091 69.58 90.6267 Q67.6819 88.8443 64.3254 88.8443 M59.6495 86.8536 Q56.6402 86.1129 54.9504 84.0527 Q53.2838 81.9925 53.2838 79.0296 Q53.2838 74.8861 56.2236 72.4787 Q59.1865 70.0713 64.3254 70.0713 Q69.4874 70.0713 72.4272 72.4787 Q75.367 74.8861 75.367 79.0296 Q75.367 81.9925 73.6772 84.0527 Q72.0105 86.1129 69.0244 86.8536 Q72.404 87.6406 74.279 89.9323 Q76.1772 92.2239 76.1772 95.5341 Q76.1772 100.557 73.0985 103.242 Q70.0429 105.928 64.3254 105.928 Q58.6078 105.928 55.5291 103.242 Q52.4736 100.557 52.4736 95.5341 Q52.4736 92.2239 54.3717 89.9323 Q56.2699 87.6406 59.6495 86.8536 M57.9365 79.4694 Q57.9365 82.1545 59.6032 83.6592 Q61.293 85.1638 64.3254 85.1638 Q67.3346 85.1638 69.0244 83.6592 Q70.7374 82.1545 70.7374 79.4694 Q70.7374 76.7842 69.0244 75.2796 Q67.3346 73.775 64.3254 73.775 Q61.293 73.775 59.6032 75.2796 Q57.9365 76.7842 57.9365 79.4694 Z\" fill=\"#000000\" fill-rule=\"nonzero\" fill-opacity=\"1\" /><polyline clip-path=\"url(#clip112)\" style=\"stroke:#009af9; stroke-linecap:round; stroke-linejoin:round; stroke-width:8; stroke-opacity:1; fill:none\" points=\"175.59,1445.72 704.028,691.416 1232.47,1294.86 1760.9,87.9763 2289.34,993.136 \"/>\n",
       "<path clip-path=\"url(#clip110)\" d=\"M2001.58 198.898 L2278.07 198.898 L2278.07 95.2176 L2001.58 95.2176  Z\" fill=\"#ffffff\" fill-rule=\"evenodd\" fill-opacity=\"1\"/>\n",
       "<polyline clip-path=\"url(#clip110)\" style=\"stroke:#000000; stroke-linecap:round; stroke-linejoin:round; stroke-width:4; stroke-opacity:1; fill:none\" points=\"2001.58,198.898 2278.07,198.898 2278.07,95.2176 2001.58,95.2176 2001.58,198.898 \"/>\n",
       "<polyline clip-path=\"url(#clip110)\" style=\"stroke:#009af9; stroke-linecap:round; stroke-linejoin:round; stroke-width:8; stroke-opacity:1; fill:none\" points=\"2026.48,147.058 2175.85,147.058 \"/>\n",
       "<path clip-path=\"url(#clip110)\" d=\"M2214.59 166.745 Q2212.78 171.375 2211.07 172.787 Q2209.36 174.199 2206.49 174.199 L2203.08 174.199 L2203.08 170.634 L2205.58 170.634 Q2207.34 170.634 2208.31 169.8 Q2209.29 168.967 2210.47 165.865 L2211.23 163.921 L2200.74 138.412 L2205.26 138.412 L2213.36 158.689 L2221.46 138.412 L2225.98 138.412 L2214.59 166.745 Z\" fill=\"#000000\" fill-rule=\"nonzero\" fill-opacity=\"1\" /><path clip-path=\"url(#clip110)\" d=\"M2233.27 160.402 L2240.91 160.402 L2240.91 134.037 L2232.6 135.703 L2232.6 131.444 L2240.86 129.778 L2245.54 129.778 L2245.54 160.402 L2253.17 160.402 L2253.17 164.338 L2233.27 164.338 L2233.27 160.402 Z\" fill=\"#000000\" fill-rule=\"nonzero\" fill-opacity=\"1\" /></svg>\n"
      ]
     },
     "execution_count": 34,
     "metadata": {},
     "output_type": "execute_result"
    }
   ],
   "source": [
    "using Plots \n",
    "x = 1 : 5\n",
    "y = [-1, 4, 0, 8, 2]\n",
    "plot(x,y,lw=2)"
   ]
  },
  {
   "cell_type": "markdown",
   "metadata": {},
   "source": [
    "#### 1.8  LaTeX\n",
    "\n",
    "This is to ensure that you can write and print mathematics in your Markdown code as part of your submissions. \n",
    "\n",
    "This is an example of markdown.\n",
    "We can make a list like this\n",
    "* Item 1\n",
    "* Item 2\n",
    "* Item 3\n",
    "\n",
    "And LaTeX by putting a single dollar sign $x_1 = 4$, to put it inline \n",
    "\n",
    "And double dollar signs to make it its own line\n",
    "\n",
    "$$\\sum_{j=1}^8 \\operatorname{sin}(x) \\leq 14$$\n",
    "\n",
    "You can even do some alignment of equations:\n",
    "\n",
    "\\begin{align}\n",
    "x_1 &= 4\\\\\n",
    "x_2 &= 18\\\\\n",
    "\\sum_{j=1}^n a_{ij} x_j &\\geq b_i \\quad \\forall i \\in M\n",
    "\\end{align}\n",
    "\n",
    "And do matrices:\n",
    "$$ A = \\begin{bmatrix} \n",
    " 1 & 7 & 3\\\\\n",
    " -1 & \\alpha & \\beta\n",
    "\\end{bmatrix} $$\n",
    "\n",
    "Look at the markdown in this cell to ensure you know how to do this\n"
   ]
  },
  {
   "cell_type": "code",
   "execution_count": null,
   "metadata": {},
   "outputs": [],
   "source": []
  },
  {
   "cell_type": "code",
   "execution_count": null,
   "metadata": {},
   "outputs": [],
   "source": []
  },
  {
   "cell_type": "markdown",
   "metadata": {},
   "source": [
    "# An introduction to JuMP\n",
    "\n",
    "\n",
    "Welcome! This tutorial will introduce you to the basics of the latest stable version of **JuMP**. If you haven't yet, work through the tutorial on Julia and do the exercises first.\n",
    "\n",
    "**WARNING**: This tutorial covers material that will be discussed in class in the first couple of weeks. If something feels confusing, don't worry too much right now.\n",
    "\n",
    "Some useful resources as you are learning JuMP are:\n",
    "- [JuMP documentation](https://jump.dev/JuMP.jl/stable/)\n",
    "- [Textbook: Julia Programming for Operations Research](http://www.chkwon.net/julia/)\n",
    "- [the Discourse forum](https://discourse.julialang.org/c/domain/opt)\n"
   ]
  },
  {
   "cell_type": "markdown",
   "metadata": {},
   "source": [
    "#### 2.0: Jump setup\n",
    "\n",
    "Before we start, let's be sure we have installed the following Julia packages (we'll explain more about what those packages are later!)."
   ]
  },
  {
   "cell_type": "code",
   "execution_count": 35,
   "metadata": {},
   "outputs": [
    {
     "name": "stderr",
     "output_type": "stream",
     "text": [
      "\u001b[32m\u001b[1m   Resolving\u001b[22m\u001b[39m package versions...\n",
      "\u001b[32m\u001b[1m   Installed\u001b[22m\u001b[39m Hwloc_jll ────── v2.11.2+3\n",
      "\u001b[32m\u001b[1m   Installed\u001b[22m\u001b[39m SPRAL_jll ────── v2024.5.8+0\n",
      "\u001b[32m\u001b[1m   Installed\u001b[22m\u001b[39m OpenBLAS32_jll ─ v0.3.29+0\n",
      "\u001b[32m\u001b[1m   Installed\u001b[22m\u001b[39m MUMPS_seq_jll ── v500.700.301+0\n",
      "\u001b[32m\u001b[1m   Installed\u001b[22m\u001b[39m ASL_jll ──────── v0.1.3+0\n",
      "\u001b[32m\u001b[1m   Installed\u001b[22m\u001b[39m Ipopt_jll ────── v300.1400.1700+0\n",
      "\u001b[32m\u001b[1m   Installed\u001b[22m\u001b[39m METIS_jll ────── v5.1.3+0\n",
      "\u001b[32m\u001b[1m   Installed\u001b[22m\u001b[39m Ipopt ────────── v1.7.1\n",
      "\u001b[32m\u001b[1m    Updating\u001b[22m\u001b[39m `C:\\Users\\damio\\.julia\\environments\\v1.11\\Project.toml`\n",
      "  \u001b[90m[b6b21f68] \u001b[39m\u001b[92m+ Ipopt v1.7.1\u001b[39m\n",
      "\u001b[32m\u001b[1m    Updating\u001b[22m\u001b[39m `C:\\Users\\damio\\.julia\\environments\\v1.11\\Manifest.toml`\n",
      "  \u001b[90m[b6b21f68] \u001b[39m\u001b[92m+ Ipopt v1.7.1\u001b[39m\n",
      "  \u001b[90m[ae81ac8f] \u001b[39m\u001b[92m+ ASL_jll v0.1.3+0\u001b[39m\n",
      "  \u001b[90m[e33a78d0] \u001b[39m\u001b[92m+ Hwloc_jll v2.11.2+3\u001b[39m\n",
      "  \u001b[90m[9cc047cb] \u001b[39m\u001b[92m+ Ipopt_jll v300.1400.1700+0\u001b[39m\n",
      "  \u001b[90m[d00139f3] \u001b[39m\u001b[92m+ METIS_jll v5.1.3+0\u001b[39m\n",
      "  \u001b[90m[d7ed1dd3] \u001b[39m\u001b[92m+ MUMPS_seq_jll v500.700.301+0\u001b[39m\n",
      "  \u001b[90m[656ef2d0] \u001b[39m\u001b[92m+ OpenBLAS32_jll v0.3.29+0\u001b[39m\n",
      "\u001b[33m⌅\u001b[39m \u001b[90m[319450e9] \u001b[39m\u001b[92m+ SPRAL_jll v2024.5.8+0\u001b[39m\n",
      "\u001b[36m\u001b[1m        Info\u001b[22m\u001b[39m Packages marked with \u001b[33m⌅\u001b[39m have new versions available but compatibility constraints restrict them from upgrading. To see why use `status --outdated -m`\n",
      "\u001b[92m\u001b[1mPrecompiling\u001b[22m\u001b[39m project...\n",
      "   2392.9 ms\u001b[32m  ✓ \u001b[39m\u001b[90mASL_jll\u001b[39m\n",
      "   2380.5 ms\u001b[32m  ✓ \u001b[39m\u001b[90mOpenBLAS32_jll\u001b[39m\n",
      "   2391.3 ms\u001b[32m  ✓ \u001b[39m\u001b[90mHwloc_jll\u001b[39m\n",
      "   2537.5 ms\u001b[32m  ✓ \u001b[39m\u001b[90mMETIS_jll\u001b[39m\n",
      "   1819.1 ms\u001b[32m  ✓ \u001b[39m\u001b[90mMUMPS_seq_jll\u001b[39m\n",
      "   2280.7 ms\u001b[32m  ✓ \u001b[39m\u001b[90mSPRAL_jll\u001b[39m\n",
      "   4947.3 ms\u001b[32m  ✓ \u001b[39m\u001b[90mIpopt_jll\u001b[39m\n",
      "   7639.9 ms\u001b[32m  ✓ \u001b[39mIpopt\n",
      "  8 dependencies successfully precompiled in 18 seconds. 211 already precompiled.\n",
      "\u001b[32m\u001b[1m   Resolving\u001b[22m\u001b[39m package versions...\n",
      "\u001b[32m\u001b[1m   Installed\u001b[22m\u001b[39m HiGHS ───── v1.13.0\n",
      "\u001b[32m\u001b[1m   Installed\u001b[22m\u001b[39m HiGHS_jll ─ v1.9.0+0\n",
      "\u001b[32m\u001b[1m    Updating\u001b[22m\u001b[39m `C:\\Users\\damio\\.julia\\environments\\v1.11\\Project.toml`\n",
      "  \u001b[90m[87dc4568] \u001b[39m\u001b[92m+ HiGHS v1.13.0\u001b[39m\n",
      "\u001b[32m\u001b[1m    Updating\u001b[22m\u001b[39m `C:\\Users\\damio\\.julia\\environments\\v1.11\\Manifest.toml`\n",
      "  \u001b[90m[87dc4568] \u001b[39m\u001b[92m+ HiGHS v1.13.0\u001b[39m\n",
      "  \u001b[90m[8fd58aa0] \u001b[39m\u001b[92m+ HiGHS_jll v1.9.0+0\u001b[39m\n",
      "\u001b[92m\u001b[1mPrecompiling\u001b[22m\u001b[39m project...\n",
      "    431.5 ms\u001b[32m  ✓ \u001b[39m\u001b[90mHiGHS_jll\u001b[39m\n",
      "   6936.0 ms\u001b[32m  ✓ \u001b[39mHiGHS\n",
      "  2 dependencies successfully precompiled in 8 seconds. 219 already precompiled.\n",
      "\u001b[32m\u001b[1m   Resolving\u001b[22m\u001b[39m package versions...\n",
      "\u001b[32m\u001b[1m   Installed\u001b[22m\u001b[39m ColorTypes ──────────── v0.11.5\n",
      "\u001b[32m\u001b[1m   Installed\u001b[22m\u001b[39m XZ_jll ──────────────── v5.6.4+1\n",
      "\u001b[32m\u001b[1m   Installed\u001b[22m\u001b[39m ColorVectorSpace ────── v0.10.0\n",
      "\u001b[32m\u001b[1m   Installed\u001b[22m\u001b[39m Pidfile ─────────────── v1.3.0\n",
      "\u001b[32m\u001b[1m   Installed\u001b[22m\u001b[39m WebSockets ──────────── v1.6.0\n",
      "\u001b[32m\u001b[1m   Installed\u001b[22m\u001b[39m AssetRegistry ───────── v0.1.0\n",
      "\u001b[32m\u001b[1m   Installed\u001b[22m\u001b[39m Colors ──────────────── v0.12.11\n",
      "\u001b[32m\u001b[1m   Installed\u001b[22m\u001b[39m Knockout ────────────── v0.2.6\n",
      "\u001b[32m\u001b[1m   Installed\u001b[22m\u001b[39m Widgets ─────────────── v0.6.7\n",
      "\u001b[32m\u001b[1m   Installed\u001b[22m\u001b[39m JSExpr ──────────────── v0.5.4\n",
      "\u001b[32m\u001b[1m   Installed\u001b[22m\u001b[39m WebIO ───────────────── v0.8.21\n",
      "\u001b[32m\u001b[1m   Installed\u001b[22m\u001b[39m FunctionalCollections ─ v0.5.0\n",
      "\u001b[32m\u001b[1m   Installed\u001b[22m\u001b[39m InteractBase ────────── v0.10.10\n",
      "\u001b[32m\u001b[1m   Installed\u001b[22m\u001b[39m Interact ────────────── v0.10.5\n",
      "\u001b[32m\u001b[1m   Installed\u001b[22m\u001b[39m Observables ─────────── v0.5.5\n",
      "\u001b[32m\u001b[1m   Installed\u001b[22m\u001b[39m CSSUtil ─────────────── v0.1.1\n",
      "\u001b[32m\u001b[1m    Updating\u001b[22m\u001b[39m `C:\\Users\\damio\\.julia\\environments\\v1.11\\Project.toml`\n",
      "  \u001b[90m[c601a237] \u001b[39m\u001b[92m+ Interact v0.10.5\u001b[39m\n",
      "\u001b[32m\u001b[1m    Updating\u001b[22m\u001b[39m `C:\\Users\\damio\\.julia\\environments\\v1.11\\Manifest.toml`\n",
      "  \u001b[90m[bf4720bc] \u001b[39m\u001b[92m+ AssetRegistry v0.1.0\u001b[39m\n",
      "  \u001b[90m[70588ee8] \u001b[39m\u001b[92m+ CSSUtil v0.1.1\u001b[39m\n",
      "\u001b[33m⌅\u001b[39m \u001b[90m[3da002f7] \u001b[39m\u001b[95m↓ ColorTypes v0.12.0 ⇒ v0.11.5\u001b[39m\n",
      "\u001b[32m⌃\u001b[39m \u001b[90m[c3611d14] \u001b[39m\u001b[95m↓ ColorVectorSpace v0.11.0 ⇒ v0.10.0\u001b[39m\n",
      "\u001b[33m⌅\u001b[39m \u001b[90m[5ae59095] \u001b[39m\u001b[95m↓ Colors v0.13.0 ⇒ v0.12.11\u001b[39m\n",
      "  \u001b[90m[de31a74c] \u001b[39m\u001b[92m+ FunctionalCollections v0.5.0\u001b[39m\n",
      "  \u001b[90m[c601a237] \u001b[39m\u001b[92m+ Interact v0.10.5\u001b[39m\n",
      "  \u001b[90m[d3863d7c] \u001b[39m\u001b[92m+ InteractBase v0.10.10\u001b[39m\n",
      "  \u001b[90m[97c1335a] \u001b[39m\u001b[92m+ JSExpr v0.5.4\u001b[39m\n",
      "  \u001b[90m[bcebb21b] \u001b[39m\u001b[92m+ Knockout v0.2.6\u001b[39m\n",
      "  \u001b[90m[510215fc] \u001b[39m\u001b[92m+ Observables v0.5.5\u001b[39m\n",
      "  \u001b[90m[fa939f87] \u001b[39m\u001b[92m+ Pidfile v1.3.0\u001b[39m\n",
      "  \u001b[90m[0f1e0344] \u001b[39m\u001b[92m+ WebIO v0.8.21\u001b[39m\n",
      "  \u001b[90m[104b5d7c] \u001b[39m\u001b[92m+ WebSockets v1.6.0\u001b[39m\n",
      "  \u001b[90m[cc8bc4a8] \u001b[39m\u001b[92m+ Widgets v0.6.7\u001b[39m\n",
      "  \u001b[90m[ffd25f8a] \u001b[39m\u001b[93m↑ XZ_jll v5.6.4+0 ⇒ v5.6.4+1\u001b[39m\n",
      "  \u001b[90m[8ba89e20] \u001b[39m\u001b[92m+ Distributed v1.11.0\u001b[39m\n",
      "\u001b[36m\u001b[1m        Info\u001b[22m\u001b[39m Packages marked with \u001b[32m⌃\u001b[39m and \u001b[33m⌅\u001b[39m have new versions available. Those with \u001b[32m⌃\u001b[39m may be upgradable, but those with \u001b[33m⌅\u001b[39m are restricted by compatibility constraints from upgrading. To see why use `status --outdated -m`\n",
      "\u001b[32m\u001b[1m    Building\u001b[22m\u001b[39m WebIO ───────→ `C:\\Users\\damio\\.julia\\scratchspaces\\44cfe95a-1eb2-52ea-b672-e2afdf69b78f\\0eef0765186f7452e52236fa42ca8c9b3c11c6e3\\build.log`\n",
      "\u001b[32m\u001b[1m    Building\u001b[22m\u001b[39m Knockout ────→ `C:\\Users\\damio\\.julia\\scratchspaces\\44cfe95a-1eb2-52ea-b672-e2afdf69b78f\\91835de56d816864f1c38fb5e3fad6eb1e741271\\build.log`\n",
      "\u001b[32m\u001b[1m    Building\u001b[22m\u001b[39m InteractBase → `C:\\Users\\damio\\.julia\\scratchspaces\\44cfe95a-1eb2-52ea-b672-e2afdf69b78f\\aa5daeff326db0a9126a225b58ca04ae12f57259\\build.log`\n",
      "\u001b[32m\u001b[1m    Building\u001b[22m\u001b[39m Interact ────→ `C:\\Users\\damio\\.julia\\scratchspaces\\44cfe95a-1eb2-52ea-b672-e2afdf69b78f\\c5091992248c7134af7c90554305c600d5d9012b\\build.log`\n",
      "\u001b[92m\u001b[1mPrecompiling\u001b[22m\u001b[39m project...\n",
      "    527.9 ms\u001b[32m  ✓ \u001b[39m\u001b[90mObservables\u001b[39m\n",
      "    412.5 ms\u001b[32m  ✓ \u001b[39m\u001b[90mPidfile\u001b[39m\n",
      "    442.1 ms\u001b[32m  ✓ \u001b[39m\u001b[90mFunctionalCollections\u001b[39m\n",
      "    566.0 ms\u001b[33m  ✓ \u001b[39m\u001b[90mXZ_jll\u001b[39m\n",
      "    679.0 ms\u001b[32m  ✓ \u001b[39m\u001b[90mAssetRegistry\u001b[39m\n",
      "   1404.4 ms\u001b[33m  ✓ \u001b[39m\u001b[90mColorTypes\u001b[39m\n",
      "   1305.7 ms\u001b[33m  ✓ \u001b[39m\u001b[90mColorVectorSpace\u001b[39m\n",
      "   3491.3 ms\u001b[32m  ✓ \u001b[39m\u001b[90mWebSockets\u001b[39m\n",
      "    952.8 ms\u001b[32m  ✓ \u001b[39m\u001b[90mColorVectorSpace → SpecialFunctionsExt\u001b[39m\n",
      "   2467.7 ms\u001b[33m  ✓ \u001b[39m\u001b[90mColors\u001b[39m\n",
      "   1080.1 ms\u001b[32m  ✓ \u001b[39m\u001b[90mWidgets\u001b[39m\n",
      "   2488.7 ms\u001b[32m  ✓ \u001b[39m\u001b[90mWebIO\u001b[39m\n",
      "   1513.4 ms\u001b[32m  ✓ \u001b[39m\u001b[90mCSSUtil\u001b[39m\n",
      "   1586.6 ms\u001b[32m  ✓ \u001b[39m\u001b[90mJSExpr\u001b[39m\n",
      "   2009.1 ms\u001b[32m  ✓ \u001b[39m\u001b[90mKnockout\u001b[39m\n",
      "   2733.9 ms\u001b[32m  ✓ \u001b[39m\u001b[90mInteractBase\u001b[39m\n",
      "   1569.3 ms\u001b[32m  ✓ \u001b[39mInteract\n",
      "  17 dependencies successfully precompiled in 16 seconds. 216 already precompiled.\n",
      "  \u001b[33m4\u001b[39m dependencies precompiled but different versions are currently loaded. Restart julia to access the new versions. Otherwise, loading dependents of these packages may trigger further precompilation to work with the unexpected versions.\n",
      "  \u001b[33m1\u001b[39m dependency had output during precompilation:\u001b[33m\n",
      "┌ \u001b[39mWebSockets\u001b[33m\n",
      "│  \u001b[39mWARNING: could not import Logging.termlength into WebSockets\u001b[33m\n",
      "│  \u001b[39mWARNING: could not import Logging.showvalue into WebSockets\u001b[33m\n",
      "└  \u001b[39m\n",
      "\u001b[32m\u001b[1m   Resolving\u001b[22m\u001b[39m package versions...\n",
      "\u001b[32m\u001b[1m  No Changes\u001b[22m\u001b[39m to `C:\\Users\\damio\\.julia\\environments\\v1.11\\Project.toml`\n",
      "\u001b[32m\u001b[1m  No Changes\u001b[22m\u001b[39m to `C:\\Users\\damio\\.julia\\environments\\v1.11\\Manifest.toml`\n"
     ]
    }
   ],
   "source": [
    "using Pkg\n",
    "Pkg.add(\"Ipopt\")     \n",
    "Pkg.add(\"HiGHS\")\n",
    "Pkg.add(\"Interact\")\n",
    "Pkg.add(\"Plots\")"
   ]
  },
  {
   "cell_type": "markdown",
   "metadata": {},
   "source": [
    "Installing the packages typically takes a moment. If you are wondering when a cell is done running, you can check on the left hand side:\n",
    "\n",
    "In [\\*]:     The cell is still running\n",
    "\n",
    "In [1]:      The cell is done (the number within the brackets will change).\n",
    "\n",
    "\n",
    "If you want to check which packages you have installed, the following command will give you the full list and the version numbers."
   ]
  },
  {
   "cell_type": "code",
   "execution_count": 36,
   "metadata": {},
   "outputs": [
    {
     "name": "stdout",
     "output_type": "stream",
     "text": [
      "\u001b[32m\u001b[1mStatus\u001b[22m\u001b[39m `C:\\Users\\damio\\.julia\\environments\\v1.11\\Project.toml`\n",
      "  \u001b[90m[87dc4568] \u001b[39mHiGHS v1.13.0\n",
      "  \u001b[90m[7073ff75] \u001b[39mIJulia v1.26.0\n",
      "  \u001b[90m[c601a237] \u001b[39mInteract v0.10.5\n",
      "  \u001b[90m[b6b21f68] \u001b[39mIpopt v1.7.1\n",
      "  \u001b[90m[4076af6c] \u001b[39mJuMP v1.23.6\n",
      "  \u001b[90m[91a5bcdd] \u001b[39mPlots v1.40.9\n"
     ]
    }
   ],
   "source": [
    "Pkg.status()"
   ]
  },
  {
   "cell_type": "markdown",
   "metadata": {},
   "source": [
    "If you want to update your packages to a newer version, you can use the command `Pkg.update()`."
   ]
  },
  {
   "cell_type": "code",
   "execution_count": 37,
   "metadata": {},
   "outputs": [
    {
     "name": "stderr",
     "output_type": "stream",
     "text": [
      "\u001b[32m\u001b[1m    Updating\u001b[22m\u001b[39m registry at `C:\\Users\\damio\\.julia\\registries\\General.toml`\n",
      "\u001b[32m\u001b[1m  No Changes\u001b[22m\u001b[39m to `C:\\Users\\damio\\.julia\\environments\\v1.11\\Project.toml`\n",
      "\u001b[32m\u001b[1m  No Changes\u001b[22m\u001b[39m to `C:\\Users\\damio\\.julia\\environments\\v1.11\\Manifest.toml`\n",
      "\u001b[36m\u001b[1m        Info\u001b[22m\u001b[39m We haven't cleaned this depot up for a bit, running Pkg.gc()...\n",
      "\u001b[32m\u001b[1m      Active\u001b[22m\u001b[39m manifest files: 1 found\n",
      "\u001b[32m\u001b[1m      Active\u001b[22m\u001b[39m artifact files: 96 found\n",
      "\u001b[32m\u001b[1m      Active\u001b[22m\u001b[39m scratchspaces: 6 found\n",
      "\u001b[32m\u001b[1m     Deleted\u001b[22m\u001b[39m no artifacts, repos, packages or scratchspaces\n"
     ]
    }
   ],
   "source": [
    "Pkg.update()"
   ]
  },
  {
   "cell_type": "markdown",
   "metadata": {},
   "source": [
    "#### 2.1 Building an optimization model.  JuMP Variables"
   ]
  },
  {
   "cell_type": "markdown",
   "metadata": {},
   "source": [
    "First, load the JuMP package into your current environment."
   ]
  },
  {
   "cell_type": "code",
   "execution_count": 38,
   "metadata": {},
   "outputs": [
    {
     "name": "stderr",
     "output_type": "stream",
     "text": [
      "\u001b[36m\u001b[1m[ \u001b[22m\u001b[39m\u001b[36m\u001b[1mInfo: \u001b[22m\u001b[39mPrecompiling SpecialFunctionsExt [997ecda8-951a-5f50-90ea-61382e97704b] (cache misses: wrong dep version loaded (2))\n"
     ]
    }
   ],
   "source": [
    "using JuMP"
   ]
  },
  {
   "cell_type": "markdown",
   "metadata": {},
   "source": [
    "Now you can start building your optimization model, which we will also refer to as a **JuMP model**!\n",
    "\n",
    "Remember that there are three components to every optimization problem:\n",
    "\n",
    "1. Decision variables (the values we are allowed to determine)\n",
    "2. Objective (the goal we want to achieve, which is expressed as a function of the decision variables)\n",
    "3. Constraints (limitations that describe which choices are possible to make, also expressed as functions of the decision variables)\n",
    "\n",
    "We will go through how to model these three parts using Julia and JuMP one by one. Let's start with defining decision variables:"
   ]
  },
  {
   "cell_type": "code",
   "execution_count": 39,
   "metadata": {},
   "outputs": [
    {
     "data": {
      "text/plain": [
       "A JuMP Model\n",
       "├ solver: none\n",
       "├ objective_sense: FEASIBILITY_SENSE\n",
       "├ num_variables: 2\n",
       "├ num_constraints: 3\n",
       "│ ├ VariableRef in MOI.GreaterThan{Float64}: 2\n",
       "│ └ VariableRef in MOI.LessThan{Float64}: 1\n",
       "└ Names registered in the model\n",
       "  └ :y, :z"
      ]
     },
     "execution_count": 39,
     "metadata": {},
     "output_type": "execute_result"
    }
   ],
   "source": [
    "first_model = Model()\n",
    "@variable(first_model, y >= 0)\n",
    "@variable(first_model, 1 <= z <= 2)\n",
    "first_model"
   ]
  },
  {
   "cell_type": "code",
   "execution_count": 40,
   "metadata": {},
   "outputs": [
    {
     "data": {
      "text/plain": [
       "1.0"
      ]
     },
     "execution_count": 40,
     "metadata": {},
     "output_type": "execute_result"
    }
   ],
   "source": [
    "# Let's find the lower bound of the z variable\n",
    "JuMP.lower_bound(z)"
   ]
  },
  {
   "cell_type": "markdown",
   "metadata": {},
   "source": [
    "Other ways to create variables\n",
    "\n",
    "Sometimes, we need to create problems with MANY variables. Then it is useful to not have to create each variable separately. \n",
    "\n",
    "A useful feature is that we can create arrays of JuMP variables."
   ]
  },
  {
   "cell_type": "code",
   "execution_count": 41,
   "metadata": {},
   "outputs": [
    {
     "data": {
      "text/plain": [
       "4-element Vector{VariableRef}:\n",
       " x[1]\n",
       " x[2]\n",
       " x[3]\n",
       " x[4]"
      ]
     },
     "execution_count": 41,
     "metadata": {},
     "output_type": "execute_result"
    }
   ],
   "source": [
    "model = Model()\n",
    "@variable(model, x[1:4] >= 0)\n",
    "x"
   ]
  },
  {
   "cell_type": "markdown",
   "metadata": {},
   "source": [
    "The indices of the arrays don't have to be integers. They can be anything, like a string `\"name\"` or a symbol `:symbol_name`.\n",
    "\n",
    "Let's create a variable that uses both number indices and symbols!"
   ]
  },
  {
   "cell_type": "code",
   "execution_count": 42,
   "metadata": {},
   "outputs": [
    {
     "name": "stdout",
     "output_type": "stream",
     "text": [
      "Printing my optimization variable: \n",
      "\n",
      "2-dimensional DenseAxisArray{VariableRef,2,...} with index sets:\n",
      "    Dimension 1, Base.OneTo(2)\n",
      "    Dimension 2, [:A, :B]\n",
      "And data, a 2×2 Matrix{VariableRef}:\n",
      " x[1,A]  x[1,B]\n",
      " x[2,A]  x[2,B]\n",
      "\n",
      "The lower bound of the first element is 1.0\n"
     ]
    }
   ],
   "source": [
    "model = Model()\n",
    "@variable(model, x[i = 1:2, j = [:A, :B]] >= i)\n",
    "\n",
    "println(\"Printing my optimization variable: \")\n",
    "println()\n",
    "println(x)\n",
    "println()\n",
    "println(\"The lower bound of the first element is \", JuMP.lower_bound(x[1,:A]))"
   ]
  },
  {
   "cell_type": "markdown",
   "metadata": {},
   "source": [
    "Another example, with strings as names:"
   ]
  },
  {
   "cell_type": "code",
   "execution_count": 43,
   "metadata": {},
   "outputs": [
    {
     "data": {
      "text/plain": [
       "2-dimensional DenseAxisArray{VariableRef,2,...} with index sets:\n",
       "    Dimension 1, Base.OneTo(4)\n",
       "    Dimension 2, [\"one\", \"two\"]\n",
       "And data, a 4×2 Matrix{VariableRef}:\n",
       " x[1,one]  x[1,two]\n",
       " x[2,one]  x[2,two]\n",
       " x[3,one]  x[3,two]\n",
       " x[4,one]  x[4,two]"
      ]
     },
     "execution_count": 43,
     "metadata": {},
     "output_type": "execute_result"
    }
   ],
   "source": [
    "model = Model()\n",
    "@variable(model, x[i = 1:4, j = [\"one\", \"two\"]] >= i)\n",
    "x"
   ]
  },
  {
   "cell_type": "markdown",
   "metadata": {},
   "source": [
    "What if I want to add two variables with the same name?\n",
    "\n",
    "It will give an error!"
   ]
  },
  {
   "cell_type": "code",
   "execution_count": 44,
   "metadata": {},
   "outputs": [
    {
     "ename": "LoadError",
     "evalue": "An object of name x is already attached to this model. If this\n    is intended, consider using the anonymous construction syntax, for example,\n    `x = @variable(model, [1:N], ...)` where the name of the object does\n    not appear inside the macro.\n\n    Alternatively, use `unregister(model, :x)` to first unregister\n    the existing name from the model. Note that this will not delete the\n    object; it will just remove the reference at `model[:x]`.\n",
     "output_type": "error",
     "traceback": [
      "An object of name x is already attached to this model. If this\n    is intended, consider using the anonymous construction syntax, for example,\n    `x = @variable(model, [1:N], ...)` where the name of the object does\n    not appear inside the macro.\n\n    Alternatively, use `unregister(model, :x)` to first unregister\n    the existing name from the model. Note that this will not delete the\n    object; it will just remove the reference at `model[:x]`.\n",
      "",
      "Stacktrace:",
      " [1] error(s::String)",
      "   @ Base .\\error.jl:35",
      " [2] _error_if_cannot_register(model::Model, name::Symbol)",
      "   @ JuMP C:\\Users\\damio\\.julia\\packages\\JuMP\\CU7H5\\src\\macros.jl:418",
      " [3] macro expansion",
      "   @ C:\\Users\\damio\\.julia\\packages\\JuMP\\CU7H5\\src\\macros.jl:407 [inlined]",
      " [4] top-level scope",
      "   @ In[44]:3"
     ]
    }
   ],
   "source": [
    "model = Model()\n",
    "@variable(model, x >= 1)\n",
    "@variable(model, x >= 2)"
   ]
  },
  {
   "cell_type": "markdown",
   "metadata": {},
   "source": [
    "Binary and integer variables\n",
    "\n",
    "By default, the decision variables in Julia are continuous variables. However, we can also create binary and integer variables as follows:"
   ]
  },
  {
   "cell_type": "code",
   "execution_count": 45,
   "metadata": {},
   "outputs": [
    {
     "data": {
      "text/plain": [
       "A JuMP Model\n",
       "├ solver: none\n",
       "├ objective_sense: FEASIBILITY_SENSE\n",
       "├ num_variables: 2\n",
       "├ num_constraints: 3\n",
       "│ ├ VariableRef in MOI.GreaterThan{Float64}: 1\n",
       "│ ├ VariableRef in MOI.Integer: 1\n",
       "│ └ VariableRef in MOI.ZeroOne: 1\n",
       "└ Names registered in the model\n",
       "  └ :x, :y"
      ]
     },
     "execution_count": 45,
     "metadata": {},
     "output_type": "execute_result"
    }
   ],
   "source": [
    "model = Model()\n",
    "@variable(model, x >= 1, Int)\n",
    "@variable(model, y, Bin)\n",
    "model"
   ]
  },
  {
   "cell_type": "markdown",
   "metadata": {},
   "source": [
    "#### 2.2 JuMP Constraints\n",
    "\n",
    "Now that we've seen how to create variables, let's look at **constraints**. \n",
    "\n",
    "Remember that constraints are limitations on the valid choices of decision variables (for example, the production of football and soccer trophies is limited by the available amount of wood). They may involve one or more decision variable, and be formulated as inequalities or equalities. \n",
    "\n",
    "Let's formulate the following constraints with decision variables $x\\geq 0$ and $y \\geq 0$:\n",
    "\n",
    "$2x+y \\leq 1$\n",
    "\n",
    "$2x+y \\geq 1$\n",
    "\n",
    "$2x+y = 1$\n",
    "\n",
    "Here is an example:"
   ]
  },
  {
   "cell_type": "code",
   "execution_count": 46,
   "metadata": {},
   "outputs": [
    {
     "data": {
      "text/latex": [
       "$$ \\begin{aligned}\n",
       "\\text{feasibility}\\\\\n",
       "\\text{Subject to} \\quad & 2 x + y = 1\\\\\n",
       " & 2 x + y \\geq 1\\\\\n",
       " & 2 x + y \\leq 1\\\\\n",
       " & x \\geq 0\\\\\n",
       " & y \\geq 0\\\\\n",
       "\\end{aligned} $$"
      ]
     },
     "metadata": {},
     "output_type": "display_data"
    }
   ],
   "source": [
    "model = Model()\n",
    "@variable(model, x >= 0)\n",
    "@variable(model, y >= 0)\n",
    "\n",
    "@constraint(model, c_less_than, 2x + y <= 1)\n",
    "@constraint(model, c_greater_than, 2x + y >= 1)\n",
    "@constraint(model, c_equal_to, 2x + y == 1)\n",
    "\n",
    "print(model)"
   ]
  },
  {
   "cell_type": "markdown",
   "metadata": {},
   "source": [
    "Similar to the optimization variables, we can access the constraints using their names:"
   ]
  },
  {
   "cell_type": "code",
   "execution_count": 47,
   "metadata": {},
   "outputs": [
    {
     "name": "stdout",
     "output_type": "stream",
     "text": [
      "c_equal_to : 2 x + y == 1"
     ]
    }
   ],
   "source": [
    "print(c_equal_to)"
   ]
  },
  {
   "cell_type": "markdown",
   "metadata": {},
   "source": [
    "#### 2.3 JuMP Objective Functions\n",
    "\n",
    "Now let's look at the last main part of the optimization model: The objective function.\n",
    "\n",
    "Note two important aspects:\n",
    "1. The objective is formulated as a function of the optimization problem.\n",
    "2. We need to specify whether we want to maximize or minimize this function."
   ]
  },
  {
   "cell_type": "markdown",
   "metadata": {},
   "source": [
    "Minimization problem (i.e., minimizing the objective function):"
   ]
  },
  {
   "cell_type": "code",
   "execution_count": 48,
   "metadata": {},
   "outputs": [
    {
     "data": {
      "text/plain": [
       "A JuMP Model\n",
       "├ solver: none\n",
       "├ objective_sense: MIN_SENSE\n",
       "│ └ objective_function_type: AffExpr\n",
       "├ num_variables: 1\n",
       "├ num_constraints: 1\n",
       "│ └ VariableRef in MOI.GreaterThan{Float64}: 1\n",
       "└ Names registered in the model\n",
       "  └ :x"
      ]
     },
     "execution_count": 48,
     "metadata": {},
     "output_type": "execute_result"
    }
   ],
   "source": [
    "model = Model()\n",
    "@variable(model, x >= 0)\n",
    "\n",
    "@objective(model, Min, 2x + 1)\n",
    "\n",
    "model"
   ]
  },
  {
   "cell_type": "markdown",
   "metadata": {},
   "source": [
    "Maximization problem (i.e., maximizing the objective function):"
   ]
  },
  {
   "cell_type": "code",
   "execution_count": 49,
   "metadata": {},
   "outputs": [
    {
     "data": {
      "text/plain": [
       "A JuMP Model\n",
       "├ solver: none\n",
       "├ objective_sense: MAX_SENSE\n",
       "│ └ objective_function_type: AffExpr\n",
       "├ num_variables: 1\n",
       "├ num_constraints: 1\n",
       "│ └ VariableRef in MOI.LessThan{Float64}: 1\n",
       "└ Names registered in the model\n",
       "  └ :x"
      ]
     },
     "execution_count": 49,
     "metadata": {},
     "output_type": "execute_result"
    }
   ],
   "source": [
    "model = Model()\n",
    "@variable(model, x <= 2)\n",
    "\n",
    "@objective(model, Max, 2x + 1)\n",
    "\n",
    "model"
   ]
  },
  {
   "cell_type": "markdown",
   "metadata": {},
   "source": [
    "#### 2.4 DO IT YOURSELF!\n",
    "\n",
    "Try to build the optimization model.\n",
    "\n",
    "*Top Brass Trophy Company makes large championship trophies for youth athletic leagues. At the moment, they are planning production for fall sports: football and soccer. Each football trophy has a wood base, an engraved plaque, a large brass football on top, and returns 12 dollars in profit. Soccer trophies are similar except that a brass soccer ball is on top, and the unit profit is only 9 dollars. Since the football has an asymmetric shape, its base requires 4 board feet of wood; the soccer base requires only 2 board feet. At the moment there are 1000 brass footballs in stock, 1500 soccer balls, 1750 plaques, and 4800 board feet of wood. What trophies should be produced from these supplies to maximize total profit assuming that all that are made can be sold?*\n",
    "\n",
    "(This is not a graded exercise for correctness, but just to see if you can start working with the syntax)\n",
    "There is a video available on the Canvas course website --  in the Julia/JuMP Resources page -- where you can see how to complete this.  "
   ]
  },
  {
   "cell_type": "code",
   "execution_count": 51,
   "metadata": {},
   "outputs": [
    {
     "data": {
      "text/plain": [
       "A JuMP Model\n",
       "├ solver: none\n",
       "├ objective_sense: MAX_SENSE\n",
       "│ └ objective_function_type: AffExpr\n",
       "├ num_variables: 2\n",
       "├ num_constraints: 6\n",
       "│ ├ AffExpr in MOI.LessThan{Float64}: 4\n",
       "│ └ VariableRef in MOI.GreaterThan{Float64}: 2\n",
       "└ Names registered in the model\n",
       "  └ :football_trophies, :soccer_trophies"
      ]
     },
     "execution_count": 51,
     "metadata": {},
     "output_type": "execute_result"
    }
   ],
   "source": [
    "# Top Brass Optimization Model\n",
    "\n",
    "TBmodel = Model()\n",
    "@variable(TBmodel, football_trophies >= 0)                             # Number of football trophies (non-negative)\n",
    "@variable(TBmodel, soccer_trophies >= 0)                               # Number of soccer trophies (non-negative)\n",
    "\n",
    "@constraint(TBmodel, football_trophies <= 1000)                        # Max 1000 brass footballs available\n",
    "@constraint(TBmodel, soccer_trophies <= 1500)                          # Max 1500 brass soccer balls available\n",
    "@constraint(TBmodel, football_trophies + soccer_trophies <= 1750)      # Max 1750 plaques available\n",
    "@constraint(TBmodel, 4*football_trophies + 2*soccer_trophies <= 4800)    # Max 4800 board feet available (4 for football, 2 for soccer)\n",
    "\n",
    "@objective(TBmodel, Max, 12*football_trophies + 9soccer_trophies)                                   # $12 profit per football trophy, $9 per soccer trophy\n",
    "\n",
    "TBmodel"
   ]
  },
  {
   "cell_type": "markdown",
   "metadata": {},
   "source": [
    "#### 2.5 Solving a Model\n",
    "\n",
    "\n",
    "Once we've formulated a model, the next step is to solve it. This requires a **solver**. \n",
    "\n",
    "Solvers are implementations of algorithms in software that are designed to \n",
    "We will talk about solvers in the class on Tuesday, January 28. If you do this tutorial before that and feel confused, you can stop here. Otherwise, think of a solver as an amazing piece of software that will mtake your optimization model as an input and magically give you the solution back! (In fact, formost of the class, this is how we will think about solvers anyways.)\n",
    "\n",
    "JuMP supports lots of different solvers. The [JuMP documentation](https://jump.dev/JuMP.jl/stable/packages/solvers/) contains a list of the supported solvers and the types of problems each solver supports.\n",
    "\n",
    "For this tutorial, we're going to use two solvers in particular.\n",
    "\n",
    "The first solver is [HiGHS](https://highs.dev/). \n",
    "\n",
    "The second solver is the COIN-OR [Interior Point OPTimizer (Ipopt)](https://projects.coin-or.org/Ipopt). This solver supports nonlinear programs with continous variables.\n",
    "\n",
    "Ipopt is available via the [Ipopt.jl](https://github.com/JuliaOpt/Ipopt.jl) package.\n",
    "\n",
    "You may see other solvers in the class from time to time, such as Clp, GLPK, Gurobi.  We will talk more about differences between the solvers as the class progresses."
   ]
  },
  {
   "cell_type": "code",
   "execution_count": 52,
   "metadata": {},
   "outputs": [],
   "source": [
    "using HiGHS\n",
    "using Ipopt"
   ]
  },
  {
   "cell_type": "markdown",
   "metadata": {},
   "source": [
    "There are two ways to add a solver to a JuMP model:"
   ]
  },
  {
   "cell_type": "code",
   "execution_count": 53,
   "metadata": {},
   "outputs": [],
   "source": [
    "model = Model(HiGHS.Optimizer)\n",
    "\n",
    "# ... or ...\n",
    "\n",
    "model = Model()\n",
    "set_optimizer(model, HiGHS.Optimizer)"
   ]
  },
  {
   "cell_type": "markdown",
   "metadata": {},
   "source": [
    "Each solver can only handle certain types of problems. If you try to solve an unsupported problem type (such as using the HiGHS solver for a highly nonlinear problem), an error will be thrown:"
   ]
  },
  {
   "cell_type": "code",
   "execution_count": 57,
   "metadata": {},
   "outputs": [
    {
     "name": "stdout",
     "output_type": "stream",
     "text": [
      "Running HiGHS 1.9.0 (git hash: 66f735e60): Copyright (c) 2024 HiGHS under MIT licence terms\n"
     ]
    },
    {
     "ename": "LoadError",
     "evalue": "The solver does not support nonlinear problems (that is, NLobjective and NLconstraint).",
     "output_type": "error",
     "traceback": [
      "The solver does not support nonlinear problems (that is, NLobjective and NLconstraint).",
      "",
      "Stacktrace:",
      " [1] error(s::String)",
      "   @ Base .\\error.jl:35",
      " [2] optimize!(model::Model; ignore_optimize_hook::Bool, _differentiation_backend::MathOptInterface.Nonlinear.SparseReverseMode, kwargs::@Kwargs{})",
      "   @ JuMP C:\\Users\\damio\\.julia\\packages\\JuMP\\CU7H5\\src\\optimizer_interface.jl:601",
      " [3] optimize!(model::Model)",
      "   @ JuMP C:\\Users\\damio\\.julia\\packages\\JuMP\\CU7H5\\src\\optimizer_interface.jl:546",
      " [4] top-level scope",
      "   @ In[57]:4"
     ]
    }
   ],
   "source": [
    "model = Model(HiGHS.Optimizer)\n",
    "@variable(model, 0 <= x <= π)\n",
    "@NLobjective(model, Min, cos(x)^2) # NOTE: This is a non-linear objective function!\n",
    "optimize!(model)"
   ]
  },
  {
   "cell_type": "markdown",
   "metadata": {},
   "source": [
    "Let's try instead if the IpOpt solver, which is a solver for non-linear optimization problems."
   ]
  },
  {
   "cell_type": "code",
   "execution_count": 58,
   "metadata": {},
   "outputs": [
    {
     "name": "stdout",
     "output_type": "stream",
     "text": [
      "This is Ipopt version 3.14.17, running with linear solver MUMPS 5.7.3.\n",
      "\n",
      "Number of nonzeros in equality constraint Jacobian...:        0\n",
      "Number of nonzeros in inequality constraint Jacobian.:        0\n",
      "Number of nonzeros in Lagrangian Hessian.............:        1\n",
      "\n",
      "Total number of variables............................:        1\n",
      "                     variables with only lower bounds:        0\n",
      "                variables with lower and upper bounds:        1\n",
      "                     variables with only upper bounds:        0\n",
      "Total number of equality constraints.................:        0\n",
      "Total number of inequality constraints...............:        0\n",
      "        inequality constraints with only lower bounds:        0\n",
      "   inequality constraints with lower and upper bounds:        0\n",
      "        inequality constraints with only upper bounds:        0\n",
      "\n",
      "iter    objective    inf_pr   inf_du lg(mu)  ||d||  lg(rg) alpha_du alpha_pr  ls\n",
      "   0  9.9990000e-01 0.00e+00 2.00e-02  -1.0 0.00e+00    -  0.00e+00 0.00e+00   0\n",
      "   1  9.8759980e-01 0.00e+00 3.07e-02  -1.0 1.02e-01    -  8.54e-01 1.00e+00f  1\n",
      "   2  9.8669625e-01 0.00e+00 4.01e-01  -1.7 4.01e-03   2.0 1.00e+00 1.00e+00f  1\n",
      "   3  9.8380423e-01 0.00e+00 4.00e-01  -1.7 1.20e-02   1.5 1.00e+00 1.00e+00f  1\n",
      "   4  9.7257905e-01 0.00e+00 4.30e-01  -1.7 3.88e-02   1.0 1.00e+00 1.00e+00f  1\n",
      "   5  8.8618271e-01 0.00e+00 6.31e-01  -1.7 1.78e-01   0.6 1.00e+00 1.00e+00f  1\n",
      "   6  8.2896451e-01 0.00e+00 8.03e-01  -1.7 8.22e-02   1.0 1.00e+00 1.00e+00f  1\n",
      "   7  4.8405038e-01 0.00e+00 9.92e-01  -1.7 3.75e-01   0.5 9.32e-01 1.00e+00f  1\n",
      "   8  1.4382245e-01 0.00e+00 7.49e-01  -1.7 1.49e+01    -  1.00e+00 7.76e-02f  2\n",
      "   9  7.8035855e-03 0.00e+00 1.89e-01  -1.7 4.77e-01    -  8.77e-01 1.00e+00f  1\n",
      "iter    objective    inf_pr   inf_du lg(mu)  ||d||  lg(rg) alpha_du alpha_pr  ls\n",
      "  10  3.6166261e-07 0.00e+00 1.86e-03  -2.5 8.91e-02    -  1.00e+00 1.00e+00f  1\n",
      "  11  2.5240578e-13 0.00e+00 5.79e-10  -3.8 6.01e-04    -  1.00e+00 1.00e+00f  1\n",
      "  12  9.1318054e-22 0.00e+00 1.57e-16  -5.7 5.02e-07    -  1.00e+00 1.00e+00f  1\n",
      "  13  3.7493995e-33 0.00e+00 1.89e-16  -8.6 3.02e-11    -  1.00e+00 1.00e+00f  1\n",
      "\n",
      "Number of Iterations....: 13\n",
      "\n",
      "                                   (scaled)                 (unscaled)\n",
      "Objective...............:   3.7493994566546440e-33    3.7493994566546440e-33\n",
      "Dual infeasibility......:   1.8934343678172697e-16    1.8934343678172697e-16\n",
      "Constraint violation....:   0.0000000000000000e+00    0.0000000000000000e+00\n",
      "Variable bound violation:   0.0000000000000000e+00    0.0000000000000000e+00\n",
      "Complementarity.........:   2.5059035951250753e-09    2.5059035951250753e-09\n",
      "Overall NLP error.......:   2.5059035951250753e-09    2.5059035951250753e-09\n",
      "\n",
      "\n",
      "Number of objective function evaluations             = 19\n",
      "Number of objective gradient evaluations             = 14\n",
      "Number of equality constraint evaluations            = 0\n",
      "Number of inequality constraint evaluations          = 0\n",
      "Number of equality constraint Jacobian evaluations   = 0\n",
      "Number of inequality constraint Jacobian evaluations = 0\n",
      "Number of Lagrangian Hessian evaluations             = 13\n",
      "Total seconds in IPOPT                               = 0.003\n",
      "\n",
      "EXIT: Optimal Solution Found.\n"
     ]
    }
   ],
   "source": [
    "set_optimizer(model, Ipopt.Optimizer)\n",
    "optimize!(model)"
   ]
  },
  {
   "cell_type": "markdown",
   "metadata": {},
   "source": [
    "#### 2.6 Getting solutions\n",
    "\n",
    "- Use `objective_value(::Model)` to get the objective value\n",
    "- Use `value(::VariableRef)` to get the value of a variable"
   ]
  },
  {
   "cell_type": "code",
   "execution_count": 59,
   "metadata": {},
   "outputs": [
    {
     "name": "stdout",
     "output_type": "stream",
     "text": [
      "The optimal decision is 1.5707963267948966\n",
      "The objective value is 3.749399456654644e-33\n"
     ]
    }
   ],
   "source": [
    "x_value = value(x)\n",
    "obj_value = objective_value(model)\n",
    "\n",
    "println(\"The optimal decision is \", x_value)\n",
    "println(\"The objective value is \", obj_value)"
   ]
  },
  {
   "cell_type": "markdown",
   "metadata": {},
   "source": [
    "#### More advanced - to remember for later in class!\n",
    "\n",
    "After solving a model, JuMP can report three different statuses:\n",
    "\n",
    "- `termination_status(model)` explains why the solver stopped. Common statuses are `OPTIMAL`, `INFEASIBLE`, `DUAL_INFEASIBLE` (i.e., primal is potentially unbounded), and `LOCALLY_SOLVED`.\n",
    "\n",
    "- `primal_status(model)` explains how to interpret the primal solution vector. Common statuses are `FEASIBLE_POINT` and `NO_SOLUTION`.\n",
    "\n",
    "- `dual_status(model)` explains how to interpret the dual solution vector. Common statuses are `FEASIBLE_POINT` and `NO_SOLUTION`.\n",
    "\n",
    "Information about both primal and dual variables are available:\n",
    "- Use `value(::VariableRef)` to get the value of a primal variable\n",
    "- Use `dual(::ConstraintRef)` to get the value of the dual variable associated with a constraint"
   ]
  },
  {
   "cell_type": "code",
   "execution_count": 60,
   "metadata": {},
   "outputs": [
    {
     "name": "stdout",
     "output_type": "stream",
     "text": [
      "This is Ipopt version 3.14.17, running with linear solver MUMPS 5.7.3.\n",
      "\n",
      "Number of nonzeros in equality constraint Jacobian...:        0\n",
      "Number of nonzeros in inequality constraint Jacobian.:        0\n",
      "Number of nonzeros in Lagrangian Hessian.............:        1\n",
      "\n",
      "Total number of variables............................:        1\n",
      "                     variables with only lower bounds:        0\n",
      "                variables with lower and upper bounds:        1\n",
      "                     variables with only upper bounds:        0\n",
      "Total number of equality constraints.................:        0\n",
      "Total number of inequality constraints...............:        0\n",
      "        inequality constraints with only lower bounds:        0\n",
      "   inequality constraints with lower and upper bounds:        0\n",
      "        inequality constraints with only upper bounds:        0\n",
      "\n",
      "iter    objective    inf_pr   inf_du lg(mu)  ||d||  lg(rg) alpha_du alpha_pr  ls\n",
      "   0  9.9990000e-01 0.00e+00 2.00e-02  -1.0 0.00e+00    -  0.00e+00 0.00e+00   0\n",
      "   1  9.8759980e-01 0.00e+00 3.07e-02  -1.0 1.02e-01    -  8.54e-01 1.00e+00f  1\n",
      "   2  9.8669625e-01 0.00e+00 4.01e-01  -1.7 4.01e-03   2.0 1.00e+00 1.00e+00f  1\n",
      "   3  9.8380423e-01 0.00e+00 4.00e-01  -1.7 1.20e-02   1.5 1.00e+00 1.00e+00f  1\n",
      "   4  9.7257905e-01 0.00e+00 4.30e-01  -1.7 3.88e-02   1.0 1.00e+00 1.00e+00f  1\n",
      "   5  8.8618271e-01 0.00e+00 6.31e-01  -1.7 1.78e-01   0.6 1.00e+00 1.00e+00f  1\n",
      "   6  8.2896451e-01 0.00e+00 8.03e-01  -1.7 8.22e-02   1.0 1.00e+00 1.00e+00f  1\n",
      "   7  4.8405038e-01 0.00e+00 9.92e-01  -1.7 3.75e-01   0.5 9.32e-01 1.00e+00f  1\n",
      "   8  1.4382245e-01 0.00e+00 7.49e-01  -1.7 1.49e+01    -  1.00e+00 7.76e-02f  2\n",
      "   9  7.8035855e-03 0.00e+00 1.89e-01  -1.7 4.77e-01    -  8.77e-01 1.00e+00f  1\n",
      "iter    objective    inf_pr   inf_du lg(mu)  ||d||  lg(rg) alpha_du alpha_pr  ls\n",
      "  10  3.6166261e-07 0.00e+00 1.86e-03  -2.5 8.91e-02    -  1.00e+00 1.00e+00f  1\n",
      "  11  2.5240578e-13 0.00e+00 5.79e-10  -3.8 6.01e-04    -  1.00e+00 1.00e+00f  1\n",
      "  12  9.1318054e-22 0.00e+00 1.57e-16  -5.7 5.02e-07    -  1.00e+00 1.00e+00f  1\n",
      "  13  3.7493995e-33 0.00e+00 1.89e-16  -8.6 3.02e-11    -  1.00e+00 1.00e+00f  1\n",
      "\n",
      "Number of Iterations....: 13\n",
      "\n",
      "                                   (scaled)                 (unscaled)\n",
      "Objective...............:   3.7493994566546440e-33    3.7493994566546440e-33\n",
      "Dual infeasibility......:   1.8934343678172697e-16    1.8934343678172697e-16\n",
      "Constraint violation....:   0.0000000000000000e+00    0.0000000000000000e+00\n",
      "Variable bound violation:   0.0000000000000000e+00    0.0000000000000000e+00\n",
      "Complementarity.........:   2.5059035951250753e-09    2.5059035951250753e-09\n",
      "Overall NLP error.......:   2.5059035951250753e-09    2.5059035951250753e-09\n",
      "\n",
      "\n",
      "Number of objective function evaluations             = 19\n",
      "Number of objective gradient evaluations             = 14\n",
      "Number of equality constraint evaluations            = 0\n",
      "Number of inequality constraint evaluations          = 0\n",
      "Number of equality constraint Jacobian evaluations   = 0\n",
      "Number of inequality constraint Jacobian evaluations = 0\n",
      "Number of Lagrangian Hessian evaluations             = 13\n",
      "Total seconds in IPOPT                               = 0.003\n",
      "\n",
      "EXIT: Optimal Solution Found.\n",
      "\n",
      "====== Let's look at the solution! =======\n",
      "\n",
      "Termination status: LOCALLY_SOLVED\n",
      "Primal status:      FEASIBLE_POINT\n",
      "Dual status:        FEASIBLE_POINT\n",
      "      x | 1.5707963267948966\n",
      "    π/2 | 1.5707963267948966\n",
      "--------+----------------------\n",
      "cos²(x) | 3.749399456654644e-33\n"
     ]
    }
   ],
   "source": [
    "model = Model(optimizer_with_attributes(Ipopt.Optimizer))\n",
    "@variable(model, 0 <= x <= π)\n",
    "@NLobjective(model, Min, cos(x)^2) # NOTE: This is a non-linear objetive function!\n",
    "optimize!(model)\n",
    "x_value = value(x)\n",
    "obj_value = objective_value(model)\n",
    "\n",
    "println()\n",
    "println(\"====== Let's look at the solution! =======\")\n",
    "println()\n",
    "println(\"Termination status: \", termination_status(model))\n",
    "println(\"Primal status:      \", primal_status(model))\n",
    "println(\"Dual status:        \", dual_status(model))\n",
    "println(\"      x | $(x_value)\")\n",
    "println(\"    π/2 | $(π/2)\")\n",
    "println(\"--------+----------------------\")\n",
    "println(\"cos²(x) | $(obj_value)\")"
   ]
  },
  {
   "cell_type": "markdown",
   "metadata": {},
   "source": [
    "\n",
    "Interpreting statuses\n",
    "\n",
    "After solving a model, JuMP can report three different statuses:\n",
    "\n",
    "- `termination_status(model)` explains why the solver stopped. Common statuses are `OPTIMAL`, `INFEASIBLE`, `DUAL_INFEASIBLE` (i.e., primal is potentially unbounded), and `LOCALLY_SOLVED`.\n",
    "\n",
    "- `primal_status(model)` explains how to interpret the primal solution vector. Common statuses are `FEASIBLE_POINT` and `NO_SOLUTION`.\n",
    "\n",
    "- `dual_status(model)` explains how to interpret the dual solution vector. Common statuses are `FEASIBLE_POINT` and `NO_SOLUTION`.\n",
    "\n",
    "Information about both primal and dual variables are available:\n",
    "- Use `value(::VariableRef)` to get the value of a primal variable\n",
    "- Use `dual(::ConstraintRef)` to get the value of the dual variable associated with a constraint"
   ]
  }
 ],
 "metadata": {
  "@webio": {
   "lastCommId": "a6284b6f335a4b388e6b47ba096fc46d",
   "lastKernelId": "86970654-0356-4c20-96a6-2b3c60cd512d"
  },
  "kernelspec": {
   "display_name": "Julia 1.11.3",
   "language": "julia",
   "name": "julia-1.11"
  },
  "language_info": {
   "file_extension": ".jl",
   "mimetype": "application/julia",
   "name": "julia",
   "version": "1.11.3"
  }
 },
 "nbformat": 4,
 "nbformat_minor": 4
}
